{
 "cells": [
  {
   "cell_type": "code",
   "execution_count": 1,
   "metadata": {},
   "outputs": [],
   "source": [
    "# Update sklearn to prevent version mismatches\n",
    "#!pip install sklearn --upgrade"
   ]
  },
  {
   "cell_type": "code",
   "execution_count": 2,
   "metadata": {},
   "outputs": [],
   "source": [
    "# install joblib. This will be used to save your model. \n",
    "# Restart your kernel after installing \n",
    "#!pip install joblib"
   ]
  },
  {
   "cell_type": "code",
   "execution_count": 3,
   "metadata": {},
   "outputs": [],
   "source": [
    "# Import library\n",
    "import pandas as pd"
   ]
  },
  {
   "cell_type": "markdown",
   "metadata": {},
   "source": [
    "# Read the CSV and Perform Basic Data Cleaning"
   ]
  },
  {
   "cell_type": "code",
   "execution_count": 4,
   "metadata": {
    "scrolled": true
   },
   "outputs": [
    {
     "data": {
      "text/html": [
       "<div>\n",
       "<style scoped>\n",
       "    .dataframe tbody tr th:only-of-type {\n",
       "        vertical-align: middle;\n",
       "    }\n",
       "\n",
       "    .dataframe tbody tr th {\n",
       "        vertical-align: top;\n",
       "    }\n",
       "\n",
       "    .dataframe thead th {\n",
       "        text-align: right;\n",
       "    }\n",
       "</style>\n",
       "<table border=\"1\" class=\"dataframe\">\n",
       "  <thead>\n",
       "    <tr style=\"text-align: right;\">\n",
       "      <th></th>\n",
       "      <th>koi_disposition</th>\n",
       "      <th>koi_fpflag_nt</th>\n",
       "      <th>koi_fpflag_ss</th>\n",
       "      <th>koi_fpflag_co</th>\n",
       "      <th>koi_fpflag_ec</th>\n",
       "      <th>koi_period</th>\n",
       "      <th>koi_period_err1</th>\n",
       "      <th>koi_period_err2</th>\n",
       "      <th>koi_time0bk</th>\n",
       "      <th>koi_time0bk_err1</th>\n",
       "      <th>...</th>\n",
       "      <th>koi_steff_err2</th>\n",
       "      <th>koi_slogg</th>\n",
       "      <th>koi_slogg_err1</th>\n",
       "      <th>koi_slogg_err2</th>\n",
       "      <th>koi_srad</th>\n",
       "      <th>koi_srad_err1</th>\n",
       "      <th>koi_srad_err2</th>\n",
       "      <th>ra</th>\n",
       "      <th>dec</th>\n",
       "      <th>koi_kepmag</th>\n",
       "    </tr>\n",
       "  </thead>\n",
       "  <tbody>\n",
       "    <tr>\n",
       "      <th>0</th>\n",
       "      <td>CONFIRMED</td>\n",
       "      <td>0</td>\n",
       "      <td>0</td>\n",
       "      <td>0</td>\n",
       "      <td>0</td>\n",
       "      <td>54.418383</td>\n",
       "      <td>2.479000e-04</td>\n",
       "      <td>-2.479000e-04</td>\n",
       "      <td>162.513840</td>\n",
       "      <td>0.003520</td>\n",
       "      <td>...</td>\n",
       "      <td>-81</td>\n",
       "      <td>4.467</td>\n",
       "      <td>0.064</td>\n",
       "      <td>-0.096</td>\n",
       "      <td>0.927</td>\n",
       "      <td>0.105</td>\n",
       "      <td>-0.061</td>\n",
       "      <td>291.93423</td>\n",
       "      <td>48.141651</td>\n",
       "      <td>15.347</td>\n",
       "    </tr>\n",
       "    <tr>\n",
       "      <th>1</th>\n",
       "      <td>FALSE POSITIVE</td>\n",
       "      <td>0</td>\n",
       "      <td>1</td>\n",
       "      <td>0</td>\n",
       "      <td>0</td>\n",
       "      <td>19.899140</td>\n",
       "      <td>1.490000e-05</td>\n",
       "      <td>-1.490000e-05</td>\n",
       "      <td>175.850252</td>\n",
       "      <td>0.000581</td>\n",
       "      <td>...</td>\n",
       "      <td>-176</td>\n",
       "      <td>4.544</td>\n",
       "      <td>0.044</td>\n",
       "      <td>-0.176</td>\n",
       "      <td>0.868</td>\n",
       "      <td>0.233</td>\n",
       "      <td>-0.078</td>\n",
       "      <td>297.00482</td>\n",
       "      <td>48.134129</td>\n",
       "      <td>15.436</td>\n",
       "    </tr>\n",
       "    <tr>\n",
       "      <th>2</th>\n",
       "      <td>FALSE POSITIVE</td>\n",
       "      <td>0</td>\n",
       "      <td>1</td>\n",
       "      <td>0</td>\n",
       "      <td>0</td>\n",
       "      <td>1.736952</td>\n",
       "      <td>2.630000e-07</td>\n",
       "      <td>-2.630000e-07</td>\n",
       "      <td>170.307565</td>\n",
       "      <td>0.000115</td>\n",
       "      <td>...</td>\n",
       "      <td>-174</td>\n",
       "      <td>4.564</td>\n",
       "      <td>0.053</td>\n",
       "      <td>-0.168</td>\n",
       "      <td>0.791</td>\n",
       "      <td>0.201</td>\n",
       "      <td>-0.067</td>\n",
       "      <td>285.53461</td>\n",
       "      <td>48.285210</td>\n",
       "      <td>15.597</td>\n",
       "    </tr>\n",
       "    <tr>\n",
       "      <th>3</th>\n",
       "      <td>CONFIRMED</td>\n",
       "      <td>0</td>\n",
       "      <td>0</td>\n",
       "      <td>0</td>\n",
       "      <td>0</td>\n",
       "      <td>2.525592</td>\n",
       "      <td>3.760000e-06</td>\n",
       "      <td>-3.760000e-06</td>\n",
       "      <td>171.595550</td>\n",
       "      <td>0.001130</td>\n",
       "      <td>...</td>\n",
       "      <td>-211</td>\n",
       "      <td>4.438</td>\n",
       "      <td>0.070</td>\n",
       "      <td>-0.210</td>\n",
       "      <td>1.046</td>\n",
       "      <td>0.334</td>\n",
       "      <td>-0.133</td>\n",
       "      <td>288.75488</td>\n",
       "      <td>48.226200</td>\n",
       "      <td>15.509</td>\n",
       "    </tr>\n",
       "    <tr>\n",
       "      <th>4</th>\n",
       "      <td>CONFIRMED</td>\n",
       "      <td>0</td>\n",
       "      <td>0</td>\n",
       "      <td>0</td>\n",
       "      <td>0</td>\n",
       "      <td>4.134435</td>\n",
       "      <td>1.050000e-05</td>\n",
       "      <td>-1.050000e-05</td>\n",
       "      <td>172.979370</td>\n",
       "      <td>0.001900</td>\n",
       "      <td>...</td>\n",
       "      <td>-232</td>\n",
       "      <td>4.486</td>\n",
       "      <td>0.054</td>\n",
       "      <td>-0.229</td>\n",
       "      <td>0.972</td>\n",
       "      <td>0.315</td>\n",
       "      <td>-0.105</td>\n",
       "      <td>296.28613</td>\n",
       "      <td>48.224670</td>\n",
       "      <td>15.714</td>\n",
       "    </tr>\n",
       "  </tbody>\n",
       "</table>\n",
       "<p>5 rows × 41 columns</p>\n",
       "</div>"
      ],
      "text/plain": [
       "  koi_disposition  koi_fpflag_nt  koi_fpflag_ss  koi_fpflag_co  koi_fpflag_ec  \\\n",
       "0       CONFIRMED              0              0              0              0   \n",
       "1  FALSE POSITIVE              0              1              0              0   \n",
       "2  FALSE POSITIVE              0              1              0              0   \n",
       "3       CONFIRMED              0              0              0              0   \n",
       "4       CONFIRMED              0              0              0              0   \n",
       "\n",
       "   koi_period  koi_period_err1  koi_period_err2  koi_time0bk  \\\n",
       "0   54.418383     2.479000e-04    -2.479000e-04   162.513840   \n",
       "1   19.899140     1.490000e-05    -1.490000e-05   175.850252   \n",
       "2    1.736952     2.630000e-07    -2.630000e-07   170.307565   \n",
       "3    2.525592     3.760000e-06    -3.760000e-06   171.595550   \n",
       "4    4.134435     1.050000e-05    -1.050000e-05   172.979370   \n",
       "\n",
       "   koi_time0bk_err1  ...  koi_steff_err2  koi_slogg  koi_slogg_err1  \\\n",
       "0          0.003520  ...             -81      4.467           0.064   \n",
       "1          0.000581  ...            -176      4.544           0.044   \n",
       "2          0.000115  ...            -174      4.564           0.053   \n",
       "3          0.001130  ...            -211      4.438           0.070   \n",
       "4          0.001900  ...            -232      4.486           0.054   \n",
       "\n",
       "   koi_slogg_err2  koi_srad  koi_srad_err1  koi_srad_err2         ra  \\\n",
       "0          -0.096     0.927          0.105         -0.061  291.93423   \n",
       "1          -0.176     0.868          0.233         -0.078  297.00482   \n",
       "2          -0.168     0.791          0.201         -0.067  285.53461   \n",
       "3          -0.210     1.046          0.334         -0.133  288.75488   \n",
       "4          -0.229     0.972          0.315         -0.105  296.28613   \n",
       "\n",
       "         dec  koi_kepmag  \n",
       "0  48.141651      15.347  \n",
       "1  48.134129      15.436  \n",
       "2  48.285210      15.597  \n",
       "3  48.226200      15.509  \n",
       "4  48.224670      15.714  \n",
       "\n",
       "[5 rows x 41 columns]"
      ]
     },
     "execution_count": 4,
     "metadata": {},
     "output_type": "execute_result"
    }
   ],
   "source": [
    "# Read csv file in\n",
    "df = pd.read_csv(\"exoplanet_data.csv\")\n",
    "# Drop the null columns where all values are null\n",
    "df = df.dropna(axis='columns', how='all')\n",
    "# Drop the null rows\n",
    "df = df.dropna()\n",
    "df.head()"
   ]
  },
  {
   "cell_type": "markdown",
   "metadata": {},
   "source": [
    "# Select your features (columns)"
   ]
  },
  {
   "cell_type": "code",
   "execution_count": 5,
   "metadata": {},
   "outputs": [
    {
     "data": {
      "text/plain": [
       "Index(['koi_fpflag_nt', 'koi_fpflag_ss', 'koi_fpflag_co', 'koi_fpflag_ec',\n",
       "       'koi_period', 'koi_time0bk', 'koi_impact', 'koi_duration', 'koi_depth',\n",
       "       'koi_prad', 'koi_teq', 'koi_insol', 'koi_model_snr', 'koi_tce_plnt_num',\n",
       "       'koi_steff', 'koi_slogg', 'koi_srad', 'ra', 'dec', 'koi_kepmag'],\n",
       "      dtype='object')"
      ]
     },
     "execution_count": 5,
     "metadata": {},
     "output_type": "execute_result"
    }
   ],
   "source": [
    "# Set features. This will also be used as your x values.\n",
    "selected_features = df[['koi_fpflag_nt','koi_fpflag_ss','koi_fpflag_co','koi_fpflag_ec','koi_period','koi_time0bk',\n",
    "                        'koi_impact','koi_duration','koi_depth','koi_prad','koi_teq','koi_insol','koi_model_snr',\n",
    "                        'koi_tce_plnt_num','koi_steff','koi_slogg','koi_srad','ra','dec','koi_kepmag']]\n",
    "feature_names = selected_features.columns\n",
    "feature_names"
   ]
  },
  {
   "cell_type": "markdown",
   "metadata": {},
   "source": [
    "# Create a Train Test Split\n",
    "\n",
    "Use `koi_disposition` for the y values"
   ]
  },
  {
   "cell_type": "code",
   "execution_count": 6,
   "metadata": {},
   "outputs": [
    {
     "data": {
      "text/html": [
       "<div>\n",
       "<style scoped>\n",
       "    .dataframe tbody tr th:only-of-type {\n",
       "        vertical-align: middle;\n",
       "    }\n",
       "\n",
       "    .dataframe tbody tr th {\n",
       "        vertical-align: top;\n",
       "    }\n",
       "\n",
       "    .dataframe thead th {\n",
       "        text-align: right;\n",
       "    }\n",
       "</style>\n",
       "<table border=\"1\" class=\"dataframe\">\n",
       "  <thead>\n",
       "    <tr style=\"text-align: right;\">\n",
       "      <th></th>\n",
       "      <th>CANDIDATE</th>\n",
       "      <th>CONFIRMED</th>\n",
       "      <th>FALSE POSITIVE</th>\n",
       "    </tr>\n",
       "  </thead>\n",
       "  <tbody>\n",
       "    <tr>\n",
       "      <th>0</th>\n",
       "      <td>0</td>\n",
       "      <td>1</td>\n",
       "      <td>0</td>\n",
       "    </tr>\n",
       "    <tr>\n",
       "      <th>1</th>\n",
       "      <td>0</td>\n",
       "      <td>0</td>\n",
       "      <td>1</td>\n",
       "    </tr>\n",
       "    <tr>\n",
       "      <th>2</th>\n",
       "      <td>0</td>\n",
       "      <td>0</td>\n",
       "      <td>1</td>\n",
       "    </tr>\n",
       "    <tr>\n",
       "      <th>3</th>\n",
       "      <td>0</td>\n",
       "      <td>1</td>\n",
       "      <td>0</td>\n",
       "    </tr>\n",
       "    <tr>\n",
       "      <th>4</th>\n",
       "      <td>0</td>\n",
       "      <td>1</td>\n",
       "      <td>0</td>\n",
       "    </tr>\n",
       "  </tbody>\n",
       "</table>\n",
       "</div>"
      ],
      "text/plain": [
       "   CANDIDATE  CONFIRMED  FALSE POSITIVE\n",
       "0          0          1               0\n",
       "1          0          0               1\n",
       "2          0          0               1\n",
       "3          0          1               0\n",
       "4          0          1               0"
      ]
     },
     "execution_count": 6,
     "metadata": {},
     "output_type": "execute_result"
    }
   ],
   "source": [
    "# Set disposition for y\n",
    "target = df[\"koi_disposition\"]\n",
    "target_names = [\"CANDIDATE\", \"CONFIRMED\", \"FALSE POSITIVE\"]\n",
    "\n",
    "# Do Binary Encoding\n",
    "data = target.copy()\n",
    "data_binary_encoded = pd.get_dummies(data)\n",
    "data_binary_encoded.head()"
   ]
  },
  {
   "cell_type": "code",
   "execution_count": 7,
   "metadata": {},
   "outputs": [],
   "source": [
    "# Test split data, test data = 20% with stratify\n",
    "from sklearn.model_selection import train_test_split\n",
    " \n",
    "X_train, X_test, y_train, y_test = train_test_split(selected_features, data_binary_encoded, \n",
    "                                                    test_size=0.20, random_state=42, stratify=data_binary_encoded)\n",
    "#X_train, X_test, y_train, y_test = train_test_split(selected_features, target, test_size=0.20, random_state=42)"
   ]
  },
  {
   "cell_type": "code",
   "execution_count": 8,
   "metadata": {},
   "outputs": [
    {
     "data": {
      "text/html": [
       "<div>\n",
       "<style scoped>\n",
       "    .dataframe tbody tr th:only-of-type {\n",
       "        vertical-align: middle;\n",
       "    }\n",
       "\n",
       "    .dataframe tbody tr th {\n",
       "        vertical-align: top;\n",
       "    }\n",
       "\n",
       "    .dataframe thead th {\n",
       "        text-align: right;\n",
       "    }\n",
       "</style>\n",
       "<table border=\"1\" class=\"dataframe\">\n",
       "  <thead>\n",
       "    <tr style=\"text-align: right;\">\n",
       "      <th></th>\n",
       "      <th>koi_fpflag_nt</th>\n",
       "      <th>koi_fpflag_ss</th>\n",
       "      <th>koi_fpflag_co</th>\n",
       "      <th>koi_fpflag_ec</th>\n",
       "      <th>koi_period</th>\n",
       "      <th>koi_time0bk</th>\n",
       "      <th>koi_impact</th>\n",
       "      <th>koi_duration</th>\n",
       "      <th>koi_depth</th>\n",
       "      <th>koi_prad</th>\n",
       "      <th>koi_teq</th>\n",
       "      <th>koi_insol</th>\n",
       "      <th>koi_model_snr</th>\n",
       "      <th>koi_tce_plnt_num</th>\n",
       "      <th>koi_steff</th>\n",
       "      <th>koi_slogg</th>\n",
       "      <th>koi_srad</th>\n",
       "      <th>ra</th>\n",
       "      <th>dec</th>\n",
       "      <th>koi_kepmag</th>\n",
       "    </tr>\n",
       "  </thead>\n",
       "  <tbody>\n",
       "    <tr>\n",
       "      <th>667</th>\n",
       "      <td>0</td>\n",
       "      <td>0</td>\n",
       "      <td>0</td>\n",
       "      <td>0</td>\n",
       "      <td>29.619389</td>\n",
       "      <td>133.682050</td>\n",
       "      <td>0.046</td>\n",
       "      <td>4.9595</td>\n",
       "      <td>314.7</td>\n",
       "      <td>1.74</td>\n",
       "      <td>580</td>\n",
       "      <td>26.79</td>\n",
       "      <td>42.5</td>\n",
       "      <td>1</td>\n",
       "      <td>5618</td>\n",
       "      <td>4.401</td>\n",
       "      <td>0.996</td>\n",
       "      <td>291.01904</td>\n",
       "      <td>38.545570</td>\n",
       "      <td>13.331</td>\n",
       "    </tr>\n",
       "    <tr>\n",
       "      <th>6805</th>\n",
       "      <td>1</td>\n",
       "      <td>0</td>\n",
       "      <td>0</td>\n",
       "      <td>0</td>\n",
       "      <td>348.681620</td>\n",
       "      <td>343.821000</td>\n",
       "      <td>0.506</td>\n",
       "      <td>10.9590</td>\n",
       "      <td>309.3</td>\n",
       "      <td>2.09</td>\n",
       "      <td>302</td>\n",
       "      <td>1.96</td>\n",
       "      <td>11.9</td>\n",
       "      <td>1</td>\n",
       "      <td>6450</td>\n",
       "      <td>4.386</td>\n",
       "      <td>1.155</td>\n",
       "      <td>284.19217</td>\n",
       "      <td>44.762112</td>\n",
       "      <td>13.971</td>\n",
       "    </tr>\n",
       "    <tr>\n",
       "      <th>209</th>\n",
       "      <td>0</td>\n",
       "      <td>0</td>\n",
       "      <td>0</td>\n",
       "      <td>0</td>\n",
       "      <td>3.855604</td>\n",
       "      <td>170.678784</td>\n",
       "      <td>0.348</td>\n",
       "      <td>3.2179</td>\n",
       "      <td>16653.0</td>\n",
       "      <td>13.61</td>\n",
       "      <td>1212</td>\n",
       "      <td>508.65</td>\n",
       "      <td>1173.9</td>\n",
       "      <td>1</td>\n",
       "      <td>6033</td>\n",
       "      <td>4.460</td>\n",
       "      <td>1.046</td>\n",
       "      <td>296.39316</td>\n",
       "      <td>45.568562</td>\n",
       "      <td>15.272</td>\n",
       "    </tr>\n",
       "    <tr>\n",
       "      <th>6425</th>\n",
       "      <td>0</td>\n",
       "      <td>1</td>\n",
       "      <td>0</td>\n",
       "      <td>0</td>\n",
       "      <td>37.878484</td>\n",
       "      <td>138.128618</td>\n",
       "      <td>0.763</td>\n",
       "      <td>10.5972</td>\n",
       "      <td>222230.0</td>\n",
       "      <td>46.42</td>\n",
       "      <td>503</td>\n",
       "      <td>15.19</td>\n",
       "      <td>1157.6</td>\n",
       "      <td>1</td>\n",
       "      <td>5985</td>\n",
       "      <td>4.603</td>\n",
       "      <td>0.758</td>\n",
       "      <td>291.11057</td>\n",
       "      <td>51.058929</td>\n",
       "      <td>13.265</td>\n",
       "    </tr>\n",
       "    <tr>\n",
       "      <th>5690</th>\n",
       "      <td>0</td>\n",
       "      <td>1</td>\n",
       "      <td>1</td>\n",
       "      <td>1</td>\n",
       "      <td>0.566794</td>\n",
       "      <td>131.829800</td>\n",
       "      <td>0.985</td>\n",
       "      <td>4.9290</td>\n",
       "      <td>100.3</td>\n",
       "      <td>1.17</td>\n",
       "      <td>2027</td>\n",
       "      <td>3972.65</td>\n",
       "      <td>18.3</td>\n",
       "      <td>1</td>\n",
       "      <td>5707</td>\n",
       "      <td>4.538</td>\n",
       "      <td>0.828</td>\n",
       "      <td>291.31244</td>\n",
       "      <td>42.618011</td>\n",
       "      <td>15.670</td>\n",
       "    </tr>\n",
       "  </tbody>\n",
       "</table>\n",
       "</div>"
      ],
      "text/plain": [
       "      koi_fpflag_nt  koi_fpflag_ss  koi_fpflag_co  koi_fpflag_ec  koi_period  \\\n",
       "667               0              0              0              0   29.619389   \n",
       "6805              1              0              0              0  348.681620   \n",
       "209               0              0              0              0    3.855604   \n",
       "6425              0              1              0              0   37.878484   \n",
       "5690              0              1              1              1    0.566794   \n",
       "\n",
       "      koi_time0bk  koi_impact  koi_duration  koi_depth  koi_prad  koi_teq  \\\n",
       "667    133.682050       0.046        4.9595      314.7      1.74      580   \n",
       "6805   343.821000       0.506       10.9590      309.3      2.09      302   \n",
       "209    170.678784       0.348        3.2179    16653.0     13.61     1212   \n",
       "6425   138.128618       0.763       10.5972   222230.0     46.42      503   \n",
       "5690   131.829800       0.985        4.9290      100.3      1.17     2027   \n",
       "\n",
       "      koi_insol  koi_model_snr  koi_tce_plnt_num  koi_steff  koi_slogg  \\\n",
       "667       26.79           42.5                 1       5618      4.401   \n",
       "6805       1.96           11.9                 1       6450      4.386   \n",
       "209      508.65         1173.9                 1       6033      4.460   \n",
       "6425      15.19         1157.6                 1       5985      4.603   \n",
       "5690    3972.65           18.3                 1       5707      4.538   \n",
       "\n",
       "      koi_srad         ra        dec  koi_kepmag  \n",
       "667      0.996  291.01904  38.545570      13.331  \n",
       "6805     1.155  284.19217  44.762112      13.971  \n",
       "209      1.046  296.39316  45.568562      15.272  \n",
       "6425     0.758  291.11057  51.058929      13.265  \n",
       "5690     0.828  291.31244  42.618011      15.670  "
      ]
     },
     "execution_count": 8,
     "metadata": {},
     "output_type": "execute_result"
    }
   ],
   "source": [
    "# Check 1st 5 entries of X_train\n",
    "X_train.head()"
   ]
  },
  {
   "cell_type": "code",
   "execution_count": 9,
   "metadata": {},
   "outputs": [
    {
     "data": {
      "text/html": [
       "<div>\n",
       "<style scoped>\n",
       "    .dataframe tbody tr th:only-of-type {\n",
       "        vertical-align: middle;\n",
       "    }\n",
       "\n",
       "    .dataframe tbody tr th {\n",
       "        vertical-align: top;\n",
       "    }\n",
       "\n",
       "    .dataframe thead th {\n",
       "        text-align: right;\n",
       "    }\n",
       "</style>\n",
       "<table border=\"1\" class=\"dataframe\">\n",
       "  <thead>\n",
       "    <tr style=\"text-align: right;\">\n",
       "      <th></th>\n",
       "      <th>CANDIDATE</th>\n",
       "      <th>CONFIRMED</th>\n",
       "      <th>FALSE POSITIVE</th>\n",
       "    </tr>\n",
       "  </thead>\n",
       "  <tbody>\n",
       "    <tr>\n",
       "      <th>667</th>\n",
       "      <td>0</td>\n",
       "      <td>1</td>\n",
       "      <td>0</td>\n",
       "    </tr>\n",
       "    <tr>\n",
       "      <th>6805</th>\n",
       "      <td>0</td>\n",
       "      <td>0</td>\n",
       "      <td>1</td>\n",
       "    </tr>\n",
       "    <tr>\n",
       "      <th>209</th>\n",
       "      <td>0</td>\n",
       "      <td>1</td>\n",
       "      <td>0</td>\n",
       "    </tr>\n",
       "    <tr>\n",
       "      <th>6425</th>\n",
       "      <td>0</td>\n",
       "      <td>0</td>\n",
       "      <td>1</td>\n",
       "    </tr>\n",
       "    <tr>\n",
       "      <th>5690</th>\n",
       "      <td>0</td>\n",
       "      <td>0</td>\n",
       "      <td>1</td>\n",
       "    </tr>\n",
       "  </tbody>\n",
       "</table>\n",
       "</div>"
      ],
      "text/plain": [
       "      CANDIDATE  CONFIRMED  FALSE POSITIVE\n",
       "667           0          1               0\n",
       "6805          0          0               1\n",
       "209           0          1               0\n",
       "6425          0          0               1\n",
       "5690          0          0               1"
      ]
     },
     "execution_count": 9,
     "metadata": {},
     "output_type": "execute_result"
    }
   ],
   "source": [
    "# Check 1st 5 entries of y_train\n",
    "y_train.head()"
   ]
  },
  {
   "cell_type": "markdown",
   "metadata": {},
   "source": [
    "# Pre-processing\n",
    "\n",
    "Scale the data using the MinMaxScaler and perform some feature selection"
   ]
  },
  {
   "cell_type": "code",
   "execution_count": 10,
   "metadata": {},
   "outputs": [
    {
     "name": "stderr",
     "output_type": "stream",
     "text": [
      "C:\\Users\\j6921\\Anaconda3\\lib\\site-packages\\sklearn\\preprocessing\\data.py:334: DataConversionWarning: Data with input dtype int64, float64 were all converted to float64 by MinMaxScaler.\n",
      "  return self.partial_fit(X, y)\n"
     ]
    }
   ],
   "source": [
    "# Scale, fit and transform data\n",
    "from sklearn.preprocessing import MinMaxScaler\n",
    "scaler = MinMaxScaler()\n",
    "X_scaler = scaler.fit(X_train)\n",
    "X_train_scaled = X_scaler.transform(X_train)\n",
    "X_test_scaled = X_scaler.transform(X_test)"
   ]
  },
  {
   "cell_type": "code",
   "execution_count": 11,
   "metadata": {},
   "outputs": [
    {
     "data": {
      "text/plain": [
       "array([[0.        , 0.        , 0.        , ..., 0.5105476 , 0.12489595,\n",
       "        0.56502441],\n",
       "       [1.        , 0.        , 0.        , ..., 0.19831482, 0.51938091,\n",
       "        0.62183755],\n",
       "       [0.        , 0.        , 0.        , ..., 0.75633762, 0.57055604,\n",
       "        0.73732801],\n",
       "       ...,\n",
       "       [0.        , 0.        , 0.        , ..., 0.86064328, 0.45804099,\n",
       "        0.44811363],\n",
       "       [0.        , 1.        , 0.        , ..., 0.30642662, 0.65868414,\n",
       "        0.37976032],\n",
       "       [1.        , 0.        , 0.        , ..., 0.33131288, 0.53487705,\n",
       "        0.72667554]])"
      ]
     },
     "execution_count": 11,
     "metadata": {},
     "output_type": "execute_result"
    }
   ],
   "source": [
    "# Check 1st 5 entries of X_train_scaled\n",
    "X_train_scaled"
   ]
  },
  {
   "cell_type": "code",
   "execution_count": 12,
   "metadata": {},
   "outputs": [
    {
     "name": "stdout",
     "output_type": "stream",
     "text": [
      "1.0000000000000002 0.0\n",
      "CANDIDATE         1\n",
      "CONFIRMED         1\n",
      "FALSE POSITIVE    1\n",
      "dtype: uint8 CANDIDATE         0\n",
      "CONFIRMED         0\n",
      "FALSE POSITIVE    0\n",
      "dtype: uint8\n"
     ]
    }
   ],
   "source": [
    "# Check min max entries of X_train_scaled\n",
    "print(f\"{X_train_scaled.max()} {X_train_scaled.min()}\")\n",
    "print(f\"{y_train.max()} {y_train.min()}\") "
   ]
  },
  {
   "cell_type": "code",
   "execution_count": 13,
   "metadata": {},
   "outputs": [
    {
     "data": {
      "text/plain": [
       "array([[0.        , 0.        , 1.        , ..., 0.95715053, 0.4686117 ,\n",
       "        0.68992455],\n",
       "       [0.        , 1.        , 0.        , ..., 0.43257573, 0.16206854,\n",
       "        0.68246782],\n",
       "       [0.        , 1.        , 0.        , ..., 0.74976903, 0.3653934 ,\n",
       "        0.69960053],\n",
       "       ...,\n",
       "       [0.        , 0.        , 1.        , ..., 0.69878407, 0.64677384,\n",
       "        0.49090102],\n",
       "       [0.        , 0.        , 0.        , ..., 0.67187537, 0.63016199,\n",
       "        0.83160231],\n",
       "       [0.        , 0.        , 0.        , ..., 0.49220478, 0.04516307,\n",
       "        0.77434532]])"
      ]
     },
     "execution_count": 13,
     "metadata": {},
     "output_type": "execute_result"
    }
   ],
   "source": [
    "# Check 1st 5 entries of X_test_scaled\n",
    "X_test_scaled"
   ]
  },
  {
   "cell_type": "markdown",
   "metadata": {},
   "source": [
    "# Train the Model\n",
    "\n"
   ]
  },
  {
   "cell_type": "code",
   "execution_count": 14,
   "metadata": {},
   "outputs": [
    {
     "name": "stdout",
     "output_type": "stream",
     "text": [
      "1.0, 0.8834882058613295\n"
     ]
    }
   ],
   "source": [
    "#from sklearn import tree RandomForest \n",
    "from sklearn.ensemble import RandomForestClassifier\n",
    "rf = RandomForestClassifier(n_estimators=200)\n",
    "rf = rf.fit(X_train_scaled, y_train)\n",
    "a = rf.score(X_train_scaled, y_train)\n",
    "b = rf.score(X_test_scaled, y_test)\n",
    "\n",
    "# print scores for RandomForest\n",
    "print(f\"{a}, {b}\")"
   ]
  },
  {
   "cell_type": "code",
   "execution_count": 15,
   "metadata": {},
   "outputs": [
    {
     "data": {
      "text/plain": [
       "RandomForestClassifier(bootstrap=True, class_weight=None, criterion='gini',\n",
       "            max_depth=None, max_features='auto', max_leaf_nodes=None,\n",
       "            min_impurity_decrease=0.0, min_impurity_split=None,\n",
       "            min_samples_leaf=1, min_samples_split=2,\n",
       "            min_weight_fraction_leaf=0.0, n_estimators=200, n_jobs=None,\n",
       "            oob_score=False, random_state=None, verbose=0,\n",
       "            warm_start=False)"
      ]
     },
     "execution_count": 15,
     "metadata": {},
     "output_type": "execute_result"
    }
   ],
   "source": [
    "# Display RandomForestClassifier\n",
    "rf"
   ]
  },
  {
   "cell_type": "code",
   "execution_count": 16,
   "metadata": {},
   "outputs": [
    {
     "data": {
      "text/plain": [
       "[(0.1283663019008084, 'koi_fpflag_co'),\n",
       " (0.12797780478168697, 'koi_model_snr'),\n",
       " (0.11941265618522212, 'koi_fpflag_nt'),\n",
       " (0.10941706890683778, 'koi_fpflag_ss'),\n",
       " (0.07084375376409605, 'koi_prad'),\n",
       " (0.0519147474453403, 'koi_depth'),\n",
       " (0.048373257094283924, 'koi_fpflag_ec'),\n",
       " (0.04241187446609373, 'koi_period'),\n",
       " (0.04220285988568244, 'koi_impact'),\n",
       " (0.033264751296731156, 'koi_teq'),\n",
       " (0.03058865533400323, 'koi_insol'),\n",
       " (0.03052770090263524, 'koi_time0bk'),\n",
       " (0.030331750093678875, 'koi_duration'),\n",
       " (0.022031932767414268, 'ra'),\n",
       " (0.021952509724026795, 'koi_srad'),\n",
       " (0.02098944146978362, 'koi_steff'),\n",
       " (0.020411619929279454, 'koi_slogg'),\n",
       " (0.020278053439221996, 'koi_kepmag'),\n",
       " (0.019757546743356696, 'dec'),\n",
       " (0.008945713869817004, 'koi_tce_plnt_num')]"
      ]
     },
     "execution_count": 16,
     "metadata": {},
     "output_type": "execute_result"
    }
   ],
   "source": [
    "# Display features that influences the model most\n",
    "sorted(zip(rf.feature_importances_, feature_names), reverse=True)"
   ]
  },
  {
   "cell_type": "markdown",
   "metadata": {},
   "source": [
    "# Hyperparameter Tuning\n",
    "\n",
    "Use `GridSearchCV` to tune the model's parameters"
   ]
  },
  {
   "cell_type": "code",
   "execution_count": 17,
   "metadata": {},
   "outputs": [],
   "source": [
    "# Create the GridSearchCV model\n",
    "from sklearn.model_selection import GridSearchCV\n",
    "param_grid = { \n",
    "    'n_estimators': [50, 100, 200, 400, 600],\n",
    "    'max_features': ['auto', 'sqrt', 'log2']\n",
    "}\n",
    "grid = GridSearchCV(rf, param_grid, verbose=3)"
   ]
  },
  {
   "cell_type": "code",
   "execution_count": 18,
   "metadata": {},
   "outputs": [
    {
     "name": "stdout",
     "output_type": "stream",
     "text": [
      "Fitting 3 folds for each of 15 candidates, totalling 45 fits\n",
      "[CV] max_features=auto, n_estimators=50 ..............................\n"
     ]
    },
    {
     "name": "stderr",
     "output_type": "stream",
     "text": [
      "C:\\Users\\j6921\\Anaconda3\\lib\\site-packages\\sklearn\\model_selection\\_split.py:2053: FutureWarning: You should specify a value for 'cv' instead of relying on the default value. The default value will change from 3 to 5 in version 0.22.\n",
      "  warnings.warn(CV_WARNING, FutureWarning)\n",
      "[Parallel(n_jobs=1)]: Using backend SequentialBackend with 1 concurrent workers.\n"
     ]
    },
    {
     "name": "stdout",
     "output_type": "stream",
     "text": [
      "[CV]  max_features=auto, n_estimators=50, score=0.8900214592274678, total=   0.3s\n",
      "[CV] max_features=auto, n_estimators=50 ..............................\n"
     ]
    },
    {
     "name": "stderr",
     "output_type": "stream",
     "text": [
      "[Parallel(n_jobs=1)]: Done   1 out of   1 | elapsed:    0.4s remaining:    0.0s\n"
     ]
    },
    {
     "name": "stdout",
     "output_type": "stream",
     "text": [
      "[CV]  max_features=auto, n_estimators=50, score=0.8733905579399142, total=   0.3s\n",
      "[CV] max_features=auto, n_estimators=50 ..............................\n"
     ]
    },
    {
     "name": "stderr",
     "output_type": "stream",
     "text": [
      "[Parallel(n_jobs=1)]: Done   2 out of   2 | elapsed:    0.8s remaining:    0.0s\n"
     ]
    },
    {
     "name": "stdout",
     "output_type": "stream",
     "text": [
      "[CV]  max_features=auto, n_estimators=50, score=0.8900214592274678, total=   0.3s\n",
      "[CV] max_features=auto, n_estimators=100 .............................\n",
      "[CV]  max_features=auto, n_estimators=100, score=0.8889484978540773, total=   0.7s\n",
      "[CV] max_features=auto, n_estimators=100 .............................\n",
      "[CV]  max_features=auto, n_estimators=100, score=0.8851931330472103, total=   0.7s\n",
      "[CV] max_features=auto, n_estimators=100 .............................\n",
      "[CV]  max_features=auto, n_estimators=100, score=0.8910944206008584, total=   0.6s\n",
      "[CV] max_features=auto, n_estimators=200 .............................\n",
      "[CV]  max_features=auto, n_estimators=200, score=0.8889484978540773, total=   1.4s\n",
      "[CV] max_features=auto, n_estimators=200 .............................\n",
      "[CV]  max_features=auto, n_estimators=200, score=0.884656652360515, total=   1.5s\n",
      "[CV] max_features=auto, n_estimators=200 .............................\n",
      "[CV]  max_features=auto, n_estimators=200, score=0.8884120171673819, total=   1.4s\n",
      "[CV] max_features=auto, n_estimators=400 .............................\n",
      "[CV]  max_features=auto, n_estimators=400, score=0.8910944206008584, total=   2.9s\n",
      "[CV] max_features=auto, n_estimators=400 .............................\n",
      "[CV]  max_features=auto, n_estimators=400, score=0.880901287553648, total=   2.9s\n",
      "[CV] max_features=auto, n_estimators=400 .............................\n",
      "[CV]  max_features=auto, n_estimators=400, score=0.8927038626609443, total=   2.9s\n",
      "[CV] max_features=auto, n_estimators=600 .............................\n",
      "[CV]  max_features=auto, n_estimators=600, score=0.8910944206008584, total=   4.5s\n",
      "[CV] max_features=auto, n_estimators=600 .............................\n",
      "[CV]  max_features=auto, n_estimators=600, score=0.8798283261802575, total=   4.5s\n",
      "[CV] max_features=auto, n_estimators=600 .............................\n",
      "[CV]  max_features=auto, n_estimators=600, score=0.8921673819742489, total=   4.4s\n",
      "[CV] max_features=sqrt, n_estimators=50 ..............................\n",
      "[CV]  max_features=sqrt, n_estimators=50, score=0.8857296137339056, total=   0.3s\n",
      "[CV] max_features=sqrt, n_estimators=50 ..............................\n",
      "[CV]  max_features=sqrt, n_estimators=50, score=0.8766094420600858, total=   0.3s\n",
      "[CV] max_features=sqrt, n_estimators=50 ..............................\n",
      "[CV]  max_features=sqrt, n_estimators=50, score=0.8803648068669528, total=   0.3s\n",
      "[CV] max_features=sqrt, n_estimators=100 .............................\n",
      "[CV]  max_features=sqrt, n_estimators=100, score=0.884656652360515, total=   0.7s\n",
      "[CV] max_features=sqrt, n_estimators=100 .............................\n",
      "[CV]  max_features=sqrt, n_estimators=100, score=0.8835836909871244, total=   0.6s\n",
      "[CV] max_features=sqrt, n_estimators=100 .............................\n",
      "[CV]  max_features=sqrt, n_estimators=100, score=0.8873390557939914, total=   0.6s\n",
      "[CV] max_features=sqrt, n_estimators=200 .............................\n",
      "[CV]  max_features=sqrt, n_estimators=200, score=0.8900214592274678, total=   1.4s\n",
      "[CV] max_features=sqrt, n_estimators=200 .............................\n",
      "[CV]  max_features=sqrt, n_estimators=200, score=0.8825107296137339, total=   1.4s\n",
      "[CV] max_features=sqrt, n_estimators=200 .............................\n",
      "[CV]  max_features=sqrt, n_estimators=200, score=0.8921673819742489, total=   1.4s\n",
      "[CV] max_features=sqrt, n_estimators=400 .............................\n",
      "[CV]  max_features=sqrt, n_estimators=400, score=0.8889484978540773, total=   2.9s\n",
      "[CV] max_features=sqrt, n_estimators=400 .............................\n",
      "[CV]  max_features=sqrt, n_estimators=400, score=0.8841201716738197, total=   2.8s\n",
      "[CV] max_features=sqrt, n_estimators=400 .............................\n",
      "[CV]  max_features=sqrt, n_estimators=400, score=0.8932403433476395, total=   3.1s\n",
      "[CV] max_features=sqrt, n_estimators=600 .............................\n",
      "[CV]  max_features=sqrt, n_estimators=600, score=0.8910944206008584, total=   4.5s\n",
      "[CV] max_features=sqrt, n_estimators=600 .............................\n",
      "[CV]  max_features=sqrt, n_estimators=600, score=0.8803648068669528, total=   4.4s\n",
      "[CV] max_features=sqrt, n_estimators=600 .............................\n",
      "[CV]  max_features=sqrt, n_estimators=600, score=0.8894849785407726, total=   4.4s\n",
      "[CV] max_features=log2, n_estimators=50 ..............................\n",
      "[CV]  max_features=log2, n_estimators=50, score=0.8825107296137339, total=   0.3s\n",
      "[CV] max_features=log2, n_estimators=50 ..............................\n",
      "[CV]  max_features=log2, n_estimators=50, score=0.8798283261802575, total=   0.3s\n",
      "[CV] max_features=log2, n_estimators=50 ..............................\n",
      "[CV]  max_features=log2, n_estimators=50, score=0.8921673819742489, total=   0.3s\n",
      "[CV] max_features=log2, n_estimators=100 .............................\n",
      "[CV]  max_features=log2, n_estimators=100, score=0.8862660944206009, total=   0.8s\n",
      "[CV] max_features=log2, n_estimators=100 .............................\n",
      "[CV]  max_features=log2, n_estimators=100, score=0.878755364806867, total=   0.6s\n",
      "[CV] max_features=log2, n_estimators=100 .............................\n",
      "[CV]  max_features=log2, n_estimators=100, score=0.8894849785407726, total=   0.6s\n",
      "[CV] max_features=log2, n_estimators=200 .............................\n",
      "[CV]  max_features=log2, n_estimators=200, score=0.8873390557939914, total=   1.5s\n",
      "[CV] max_features=log2, n_estimators=200 .............................\n",
      "[CV]  max_features=log2, n_estimators=200, score=0.8830472103004292, total=   1.4s\n",
      "[CV] max_features=log2, n_estimators=200 .............................\n",
      "[CV]  max_features=log2, n_estimators=200, score=0.8889484978540773, total=   1.3s\n",
      "[CV] max_features=log2, n_estimators=400 .............................\n",
      "[CV]  max_features=log2, n_estimators=400, score=0.8916309012875536, total=   2.9s\n",
      "[CV] max_features=log2, n_estimators=400 .............................\n",
      "[CV]  max_features=log2, n_estimators=400, score=0.8814377682403434, total=   2.7s\n",
      "[CV] max_features=log2, n_estimators=400 .............................\n",
      "[CV]  max_features=log2, n_estimators=400, score=0.8927038626609443, total=   2.9s\n",
      "[CV] max_features=log2, n_estimators=600 .............................\n",
      "[CV]  max_features=log2, n_estimators=600, score=0.8894849785407726, total=   4.6s\n",
      "[CV] max_features=log2, n_estimators=600 .............................\n",
      "[CV]  max_features=log2, n_estimators=600, score=0.8792918454935622, total=   4.2s\n",
      "[CV] max_features=log2, n_estimators=600 .............................\n",
      "[CV]  max_features=log2, n_estimators=600, score=0.8921673819742489, total=   4.1s\n"
     ]
    },
    {
     "name": "stderr",
     "output_type": "stream",
     "text": [
      "[Parallel(n_jobs=1)]: Done  45 out of  45 | elapsed:  1.7min finished\n"
     ]
    },
    {
     "data": {
      "text/plain": [
       "GridSearchCV(cv='warn', error_score='raise-deprecating',\n",
       "       estimator=RandomForestClassifier(bootstrap=True, class_weight=None, criterion='gini',\n",
       "            max_depth=None, max_features='auto', max_leaf_nodes=None,\n",
       "            min_impurity_decrease=0.0, min_impurity_split=None,\n",
       "            min_samples_leaf=1, min_samples_split=2,\n",
       "            min_weight_fraction_leaf=0.0, n_estimators=200, n_jobs=None,\n",
       "            oob_score=False, random_state=None, verbose=0,\n",
       "            warm_start=False),\n",
       "       fit_params=None, iid='warn', n_jobs=None,\n",
       "       param_grid={'n_estimators': [50, 100, 200, 400, 600], 'max_features': ['auto', 'sqrt', 'log2']},\n",
       "       pre_dispatch='2*n_jobs', refit=True, return_train_score='warn',\n",
       "       scoring=None, verbose=3)"
      ]
     },
     "execution_count": 18,
     "metadata": {},
     "output_type": "execute_result"
    }
   ],
   "source": [
    "# Train the model with GridSearch\n",
    "grid.fit(X_train, y_train)"
   ]
  },
  {
   "cell_type": "code",
   "execution_count": 19,
   "metadata": {},
   "outputs": [
    {
     "name": "stdout",
     "output_type": "stream",
     "text": [
      "{'max_features': 'sqrt', 'n_estimators': 400}\n",
      "0.8887696709585121\n",
      "Best max_features: sqrt\n",
      "Best n_estimators: 400\n"
     ]
    }
   ],
   "source": [
    "# Display best tuned params and the score \n",
    "print(grid.best_params_)\n",
    "print(grid.best_score_)\n",
    "\n",
    "# Display and save best tuned param\n",
    "print('Best max_features:', grid.best_params_['max_features'])\n",
    "print('Best n_estimators:', grid.best_params_['n_estimators'])\n",
    "max_features_tune = grid.best_params_['max_features']\n",
    "n_estimators_tune = grid.best_params_['n_estimators']"
   ]
  },
  {
   "cell_type": "code",
   "execution_count": 20,
   "metadata": {},
   "outputs": [
    {
     "name": "stdout",
     "output_type": "stream",
     "text": [
      "1.0, 0.8806290207290922\n"
     ]
    }
   ],
   "source": [
    "# Refit model with new tuned values\n",
    "rf_tuned = RandomForestClassifier(n_estimators=n_estimators_tune, max_features=max_features_tune)\n",
    "rf_tuned = rf_tuned.fit(X_train_scaled, y_train)\n",
    "a_tuned = rf_tuned.score(X_train_scaled, y_train)\n",
    "b_tuned = rf_tuned.score(X_test_scaled, y_test)\n",
    "print(f\"{a_tuned}, {b_tuned}\")"
   ]
  },
  {
   "cell_type": "markdown",
   "metadata": {},
   "source": [
    "# Save the Model"
   ]
  },
  {
   "cell_type": "code",
   "execution_count": 21,
   "metadata": {},
   "outputs": [
    {
     "data": {
      "text/plain": [
       "['prakash_randomforest.sav']"
      ]
     },
     "execution_count": 21,
     "metadata": {},
     "output_type": "execute_result"
    }
   ],
   "source": [
    "# save model to a file\n",
    "import joblib\n",
    "filename = 'prakash_randomforest.sav'\n",
    "joblib.dump(rf_tuned, filename)"
   ]
  },
  {
   "cell_type": "code",
   "execution_count": null,
   "metadata": {},
   "outputs": [],
   "source": []
  }
 ],
 "metadata": {
  "kernel_info": {
   "name": "dev"
  },
  "kernelspec": {
   "display_name": "Python 3",
   "language": "python",
   "name": "python3"
  },
  "language_info": {
   "codemirror_mode": {
    "name": "ipython",
    "version": 3
   },
   "file_extension": ".py",
   "mimetype": "text/x-python",
   "name": "python",
   "nbconvert_exporter": "python",
   "pygments_lexer": "ipython3",
   "version": "3.7.3"
  },
  "nteract": {
   "version": "0.12.3"
  }
 },
 "nbformat": 4,
 "nbformat_minor": 2
}
