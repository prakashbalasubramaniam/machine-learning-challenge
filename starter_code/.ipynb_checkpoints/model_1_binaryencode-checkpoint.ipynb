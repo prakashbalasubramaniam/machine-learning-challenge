{
 "cells": [
  {
   "cell_type": "code",
   "execution_count": 1,
   "metadata": {},
   "outputs": [],
   "source": [
    "# Update sklearn to prevent version mismatches\n",
    "#!pip install sklearn --upgrade"
   ]
  },
  {
   "cell_type": "code",
   "execution_count": 2,
   "metadata": {},
   "outputs": [],
   "source": [
    "# install joblib. This will be used to save your model. \n",
    "# Restart your kernel after installing \n",
    "#!pip install joblib"
   ]
  },
  {
   "cell_type": "code",
   "execution_count": 3,
   "metadata": {},
   "outputs": [],
   "source": [
    "import pandas as pd"
   ]
  },
  {
   "cell_type": "markdown",
   "metadata": {},
   "source": [
    "# Read the CSV and Perform Basic Data Cleaning"
   ]
  },
  {
   "cell_type": "code",
   "execution_count": 4,
   "metadata": {
    "scrolled": true
   },
   "outputs": [
    {
     "data": {
      "text/html": [
       "<div>\n",
       "<style scoped>\n",
       "    .dataframe tbody tr th:only-of-type {\n",
       "        vertical-align: middle;\n",
       "    }\n",
       "\n",
       "    .dataframe tbody tr th {\n",
       "        vertical-align: top;\n",
       "    }\n",
       "\n",
       "    .dataframe thead th {\n",
       "        text-align: right;\n",
       "    }\n",
       "</style>\n",
       "<table border=\"1\" class=\"dataframe\">\n",
       "  <thead>\n",
       "    <tr style=\"text-align: right;\">\n",
       "      <th></th>\n",
       "      <th>koi_disposition</th>\n",
       "      <th>koi_fpflag_nt</th>\n",
       "      <th>koi_fpflag_ss</th>\n",
       "      <th>koi_fpflag_co</th>\n",
       "      <th>koi_fpflag_ec</th>\n",
       "      <th>koi_period</th>\n",
       "      <th>koi_period_err1</th>\n",
       "      <th>koi_period_err2</th>\n",
       "      <th>koi_time0bk</th>\n",
       "      <th>koi_time0bk_err1</th>\n",
       "      <th>...</th>\n",
       "      <th>koi_steff_err2</th>\n",
       "      <th>koi_slogg</th>\n",
       "      <th>koi_slogg_err1</th>\n",
       "      <th>koi_slogg_err2</th>\n",
       "      <th>koi_srad</th>\n",
       "      <th>koi_srad_err1</th>\n",
       "      <th>koi_srad_err2</th>\n",
       "      <th>ra</th>\n",
       "      <th>dec</th>\n",
       "      <th>koi_kepmag</th>\n",
       "    </tr>\n",
       "  </thead>\n",
       "  <tbody>\n",
       "    <tr>\n",
       "      <th>0</th>\n",
       "      <td>CONFIRMED</td>\n",
       "      <td>0</td>\n",
       "      <td>0</td>\n",
       "      <td>0</td>\n",
       "      <td>0</td>\n",
       "      <td>54.418383</td>\n",
       "      <td>2.479000e-04</td>\n",
       "      <td>-2.479000e-04</td>\n",
       "      <td>162.513840</td>\n",
       "      <td>0.003520</td>\n",
       "      <td>...</td>\n",
       "      <td>-81</td>\n",
       "      <td>4.467</td>\n",
       "      <td>0.064</td>\n",
       "      <td>-0.096</td>\n",
       "      <td>0.927</td>\n",
       "      <td>0.105</td>\n",
       "      <td>-0.061</td>\n",
       "      <td>291.93423</td>\n",
       "      <td>48.141651</td>\n",
       "      <td>15.347</td>\n",
       "    </tr>\n",
       "    <tr>\n",
       "      <th>1</th>\n",
       "      <td>FALSE POSITIVE</td>\n",
       "      <td>0</td>\n",
       "      <td>1</td>\n",
       "      <td>0</td>\n",
       "      <td>0</td>\n",
       "      <td>19.899140</td>\n",
       "      <td>1.490000e-05</td>\n",
       "      <td>-1.490000e-05</td>\n",
       "      <td>175.850252</td>\n",
       "      <td>0.000581</td>\n",
       "      <td>...</td>\n",
       "      <td>-176</td>\n",
       "      <td>4.544</td>\n",
       "      <td>0.044</td>\n",
       "      <td>-0.176</td>\n",
       "      <td>0.868</td>\n",
       "      <td>0.233</td>\n",
       "      <td>-0.078</td>\n",
       "      <td>297.00482</td>\n",
       "      <td>48.134129</td>\n",
       "      <td>15.436</td>\n",
       "    </tr>\n",
       "    <tr>\n",
       "      <th>2</th>\n",
       "      <td>FALSE POSITIVE</td>\n",
       "      <td>0</td>\n",
       "      <td>1</td>\n",
       "      <td>0</td>\n",
       "      <td>0</td>\n",
       "      <td>1.736952</td>\n",
       "      <td>2.630000e-07</td>\n",
       "      <td>-2.630000e-07</td>\n",
       "      <td>170.307565</td>\n",
       "      <td>0.000115</td>\n",
       "      <td>...</td>\n",
       "      <td>-174</td>\n",
       "      <td>4.564</td>\n",
       "      <td>0.053</td>\n",
       "      <td>-0.168</td>\n",
       "      <td>0.791</td>\n",
       "      <td>0.201</td>\n",
       "      <td>-0.067</td>\n",
       "      <td>285.53461</td>\n",
       "      <td>48.285210</td>\n",
       "      <td>15.597</td>\n",
       "    </tr>\n",
       "    <tr>\n",
       "      <th>3</th>\n",
       "      <td>CONFIRMED</td>\n",
       "      <td>0</td>\n",
       "      <td>0</td>\n",
       "      <td>0</td>\n",
       "      <td>0</td>\n",
       "      <td>2.525592</td>\n",
       "      <td>3.760000e-06</td>\n",
       "      <td>-3.760000e-06</td>\n",
       "      <td>171.595550</td>\n",
       "      <td>0.001130</td>\n",
       "      <td>...</td>\n",
       "      <td>-211</td>\n",
       "      <td>4.438</td>\n",
       "      <td>0.070</td>\n",
       "      <td>-0.210</td>\n",
       "      <td>1.046</td>\n",
       "      <td>0.334</td>\n",
       "      <td>-0.133</td>\n",
       "      <td>288.75488</td>\n",
       "      <td>48.226200</td>\n",
       "      <td>15.509</td>\n",
       "    </tr>\n",
       "    <tr>\n",
       "      <th>4</th>\n",
       "      <td>CONFIRMED</td>\n",
       "      <td>0</td>\n",
       "      <td>0</td>\n",
       "      <td>0</td>\n",
       "      <td>0</td>\n",
       "      <td>4.134435</td>\n",
       "      <td>1.050000e-05</td>\n",
       "      <td>-1.050000e-05</td>\n",
       "      <td>172.979370</td>\n",
       "      <td>0.001900</td>\n",
       "      <td>...</td>\n",
       "      <td>-232</td>\n",
       "      <td>4.486</td>\n",
       "      <td>0.054</td>\n",
       "      <td>-0.229</td>\n",
       "      <td>0.972</td>\n",
       "      <td>0.315</td>\n",
       "      <td>-0.105</td>\n",
       "      <td>296.28613</td>\n",
       "      <td>48.224670</td>\n",
       "      <td>15.714</td>\n",
       "    </tr>\n",
       "  </tbody>\n",
       "</table>\n",
       "<p>5 rows × 41 columns</p>\n",
       "</div>"
      ],
      "text/plain": [
       "  koi_disposition  koi_fpflag_nt  koi_fpflag_ss  koi_fpflag_co  koi_fpflag_ec  \\\n",
       "0       CONFIRMED              0              0              0              0   \n",
       "1  FALSE POSITIVE              0              1              0              0   \n",
       "2  FALSE POSITIVE              0              1              0              0   \n",
       "3       CONFIRMED              0              0              0              0   \n",
       "4       CONFIRMED              0              0              0              0   \n",
       "\n",
       "   koi_period  koi_period_err1  koi_period_err2  koi_time0bk  \\\n",
       "0   54.418383     2.479000e-04    -2.479000e-04   162.513840   \n",
       "1   19.899140     1.490000e-05    -1.490000e-05   175.850252   \n",
       "2    1.736952     2.630000e-07    -2.630000e-07   170.307565   \n",
       "3    2.525592     3.760000e-06    -3.760000e-06   171.595550   \n",
       "4    4.134435     1.050000e-05    -1.050000e-05   172.979370   \n",
       "\n",
       "   koi_time0bk_err1  ...  koi_steff_err2  koi_slogg  koi_slogg_err1  \\\n",
       "0          0.003520  ...             -81      4.467           0.064   \n",
       "1          0.000581  ...            -176      4.544           0.044   \n",
       "2          0.000115  ...            -174      4.564           0.053   \n",
       "3          0.001130  ...            -211      4.438           0.070   \n",
       "4          0.001900  ...            -232      4.486           0.054   \n",
       "\n",
       "   koi_slogg_err2  koi_srad  koi_srad_err1  koi_srad_err2         ra  \\\n",
       "0          -0.096     0.927          0.105         -0.061  291.93423   \n",
       "1          -0.176     0.868          0.233         -0.078  297.00482   \n",
       "2          -0.168     0.791          0.201         -0.067  285.53461   \n",
       "3          -0.210     1.046          0.334         -0.133  288.75488   \n",
       "4          -0.229     0.972          0.315         -0.105  296.28613   \n",
       "\n",
       "         dec  koi_kepmag  \n",
       "0  48.141651      15.347  \n",
       "1  48.134129      15.436  \n",
       "2  48.285210      15.597  \n",
       "3  48.226200      15.509  \n",
       "4  48.224670      15.714  \n",
       "\n",
       "[5 rows x 41 columns]"
      ]
     },
     "execution_count": 4,
     "metadata": {},
     "output_type": "execute_result"
    }
   ],
   "source": [
    "df = pd.read_csv(\"exoplanet_data.csv\")\n",
    "# Drop the null columns where all values are null\n",
    "df = df.dropna(axis='columns', how='all')\n",
    "# Drop the null rows\n",
    "df = df.dropna()\n",
    "df.head()"
   ]
  },
  {
   "cell_type": "markdown",
   "metadata": {},
   "source": [
    "# Select your features (columns)"
   ]
  },
  {
   "cell_type": "code",
   "execution_count": 5,
   "metadata": {},
   "outputs": [
    {
     "data": {
      "text/plain": [
       "Index(['koi_fpflag_nt', 'koi_fpflag_ss', 'koi_fpflag_co', 'koi_fpflag_ec',\n",
       "       'koi_period', 'koi_time0bk', 'koi_impact', 'koi_duration', 'koi_depth',\n",
       "       'koi_prad', 'koi_teq', 'koi_insol', 'koi_model_snr', 'koi_tce_plnt_num',\n",
       "       'koi_steff', 'koi_slogg', 'koi_srad', 'ra', 'dec', 'koi_kepmag'],\n",
       "      dtype='object')"
      ]
     },
     "execution_count": 5,
     "metadata": {},
     "output_type": "execute_result"
    }
   ],
   "source": [
    "# Set features. This will also be used as your x values.\n",
    "selected_features = df[['koi_fpflag_nt','koi_fpflag_ss','koi_fpflag_co','koi_fpflag_ec','koi_period','koi_time0bk',\n",
    "                        'koi_impact','koi_duration','koi_depth','koi_prad','koi_teq','koi_insol','koi_model_snr',\n",
    "                        'koi_tce_plnt_num','koi_steff','koi_slogg','koi_srad','ra','dec','koi_kepmag']]\n",
    "feature_names = selected_features.columns\n",
    "feature_names"
   ]
  },
  {
   "cell_type": "markdown",
   "metadata": {},
   "source": [
    "# Create a Train Test Split\n",
    "\n",
    "Use `koi_disposition` for the y values"
   ]
  },
  {
   "cell_type": "code",
   "execution_count": 6,
   "metadata": {},
   "outputs": [
    {
     "data": {
      "text/html": [
       "<div>\n",
       "<style scoped>\n",
       "    .dataframe tbody tr th:only-of-type {\n",
       "        vertical-align: middle;\n",
       "    }\n",
       "\n",
       "    .dataframe tbody tr th {\n",
       "        vertical-align: top;\n",
       "    }\n",
       "\n",
       "    .dataframe thead th {\n",
       "        text-align: right;\n",
       "    }\n",
       "</style>\n",
       "<table border=\"1\" class=\"dataframe\">\n",
       "  <thead>\n",
       "    <tr style=\"text-align: right;\">\n",
       "      <th></th>\n",
       "      <th>CANDIDATE</th>\n",
       "      <th>CONFIRMED</th>\n",
       "      <th>FALSE POSITIVE</th>\n",
       "    </tr>\n",
       "  </thead>\n",
       "  <tbody>\n",
       "    <tr>\n",
       "      <th>0</th>\n",
       "      <td>0</td>\n",
       "      <td>1</td>\n",
       "      <td>0</td>\n",
       "    </tr>\n",
       "    <tr>\n",
       "      <th>1</th>\n",
       "      <td>0</td>\n",
       "      <td>0</td>\n",
       "      <td>1</td>\n",
       "    </tr>\n",
       "    <tr>\n",
       "      <th>2</th>\n",
       "      <td>0</td>\n",
       "      <td>0</td>\n",
       "      <td>1</td>\n",
       "    </tr>\n",
       "    <tr>\n",
       "      <th>3</th>\n",
       "      <td>0</td>\n",
       "      <td>1</td>\n",
       "      <td>0</td>\n",
       "    </tr>\n",
       "    <tr>\n",
       "      <th>4</th>\n",
       "      <td>0</td>\n",
       "      <td>1</td>\n",
       "      <td>0</td>\n",
       "    </tr>\n",
       "  </tbody>\n",
       "</table>\n",
       "</div>"
      ],
      "text/plain": [
       "   CANDIDATE  CONFIRMED  FALSE POSITIVE\n",
       "0          0          1               0\n",
       "1          0          0               1\n",
       "2          0          0               1\n",
       "3          0          1               0\n",
       "4          0          1               0"
      ]
     },
     "execution_count": 6,
     "metadata": {},
     "output_type": "execute_result"
    }
   ],
   "source": [
    "# Set disposition for y\n",
    "target = df[\"koi_disposition\"]\n",
    "target_names = [\"CANDIDATE\", \"CONFIRMED\", \"FALSE POSITIVE\"]\n",
    "\n",
    "data = target.copy()\n",
    "data_binary_encoded = pd.get_dummies(data)\n",
    "data_binary_encoded.head()"
   ]
  },
  {
   "cell_type": "code",
   "execution_count": 7,
   "metadata": {},
   "outputs": [],
   "source": [
    "# Test split data, test data = 20%\n",
    "from sklearn.model_selection import train_test_split\n",
    "#X_train, X_test, y_train, y_test = train_test_split(selected_features, data_binary_encoded, test_size=0.40, random_state=42, stratify=data_binary_encoded)\n",
    "X_train, X_test, y_train, y_test = train_test_split(selected_features, target, test_size=0.40, random_state=42)"
   ]
  },
  {
   "cell_type": "code",
   "execution_count": 8,
   "metadata": {},
   "outputs": [
    {
     "data": {
      "text/html": [
       "<div>\n",
       "<style scoped>\n",
       "    .dataframe tbody tr th:only-of-type {\n",
       "        vertical-align: middle;\n",
       "    }\n",
       "\n",
       "    .dataframe tbody tr th {\n",
       "        vertical-align: top;\n",
       "    }\n",
       "\n",
       "    .dataframe thead th {\n",
       "        text-align: right;\n",
       "    }\n",
       "</style>\n",
       "<table border=\"1\" class=\"dataframe\">\n",
       "  <thead>\n",
       "    <tr style=\"text-align: right;\">\n",
       "      <th></th>\n",
       "      <th>koi_fpflag_nt</th>\n",
       "      <th>koi_fpflag_ss</th>\n",
       "      <th>koi_fpflag_co</th>\n",
       "      <th>koi_fpflag_ec</th>\n",
       "      <th>koi_period</th>\n",
       "      <th>koi_time0bk</th>\n",
       "      <th>koi_impact</th>\n",
       "      <th>koi_duration</th>\n",
       "      <th>koi_depth</th>\n",
       "      <th>koi_prad</th>\n",
       "      <th>koi_teq</th>\n",
       "      <th>koi_insol</th>\n",
       "      <th>koi_model_snr</th>\n",
       "      <th>koi_tce_plnt_num</th>\n",
       "      <th>koi_steff</th>\n",
       "      <th>koi_slogg</th>\n",
       "      <th>koi_srad</th>\n",
       "      <th>ra</th>\n",
       "      <th>dec</th>\n",
       "      <th>koi_kepmag</th>\n",
       "    </tr>\n",
       "  </thead>\n",
       "  <tbody>\n",
       "    <tr>\n",
       "      <th>368</th>\n",
       "      <td>1</td>\n",
       "      <td>0</td>\n",
       "      <td>1</td>\n",
       "      <td>1</td>\n",
       "      <td>100.303923</td>\n",
       "      <td>277.060700</td>\n",
       "      <td>1.256</td>\n",
       "      <td>8.7020</td>\n",
       "      <td>5450.0</td>\n",
       "      <td>29.55</td>\n",
       "      <td>313</td>\n",
       "      <td>2.26</td>\n",
       "      <td>63.2</td>\n",
       "      <td>1</td>\n",
       "      <td>5055</td>\n",
       "      <td>4.566</td>\n",
       "      <td>0.772</td>\n",
       "      <td>284.51962</td>\n",
       "      <td>44.453941</td>\n",
       "      <td>15.783</td>\n",
       "    </tr>\n",
       "    <tr>\n",
       "      <th>1937</th>\n",
       "      <td>0</td>\n",
       "      <td>0</td>\n",
       "      <td>0</td>\n",
       "      <td>0</td>\n",
       "      <td>15.362605</td>\n",
       "      <td>145.573200</td>\n",
       "      <td>0.250</td>\n",
       "      <td>3.7360</td>\n",
       "      <td>468.3</td>\n",
       "      <td>1.80</td>\n",
       "      <td>608</td>\n",
       "      <td>32.23</td>\n",
       "      <td>19.7</td>\n",
       "      <td>1</td>\n",
       "      <td>5011</td>\n",
       "      <td>4.484</td>\n",
       "      <td>0.851</td>\n",
       "      <td>296.21518</td>\n",
       "      <td>39.527050</td>\n",
       "      <td>15.384</td>\n",
       "    </tr>\n",
       "    <tr>\n",
       "      <th>1151</th>\n",
       "      <td>0</td>\n",
       "      <td>0</td>\n",
       "      <td>0</td>\n",
       "      <td>0</td>\n",
       "      <td>6.988010</td>\n",
       "      <td>132.569640</td>\n",
       "      <td>0.024</td>\n",
       "      <td>3.1030</td>\n",
       "      <td>193.2</td>\n",
       "      <td>1.39</td>\n",
       "      <td>914</td>\n",
       "      <td>164.86</td>\n",
       "      <td>17.1</td>\n",
       "      <td>2</td>\n",
       "      <td>5353</td>\n",
       "      <td>4.358</td>\n",
       "      <td>1.023</td>\n",
       "      <td>293.35172</td>\n",
       "      <td>48.444641</td>\n",
       "      <td>14.531</td>\n",
       "    </tr>\n",
       "    <tr>\n",
       "      <th>5610</th>\n",
       "      <td>0</td>\n",
       "      <td>1</td>\n",
       "      <td>0</td>\n",
       "      <td>0</td>\n",
       "      <td>80.706064</td>\n",
       "      <td>139.436835</td>\n",
       "      <td>0.956</td>\n",
       "      <td>6.8899</td>\n",
       "      <td>11852.0</td>\n",
       "      <td>15.47</td>\n",
       "      <td>428</td>\n",
       "      <td>7.96</td>\n",
       "      <td>268.1</td>\n",
       "      <td>1</td>\n",
       "      <td>6053</td>\n",
       "      <td>4.494</td>\n",
       "      <td>0.949</td>\n",
       "      <td>287.96375</td>\n",
       "      <td>46.306911</td>\n",
       "      <td>15.395</td>\n",
       "    </tr>\n",
       "    <tr>\n",
       "      <th>3395</th>\n",
       "      <td>0</td>\n",
       "      <td>0</td>\n",
       "      <td>1</td>\n",
       "      <td>0</td>\n",
       "      <td>1.337562</td>\n",
       "      <td>132.145970</td>\n",
       "      <td>0.055</td>\n",
       "      <td>1.5750</td>\n",
       "      <td>41.0</td>\n",
       "      <td>1.11</td>\n",
       "      <td>2322</td>\n",
       "      <td>6870.94</td>\n",
       "      <td>9.5</td>\n",
       "      <td>1</td>\n",
       "      <td>6406</td>\n",
       "      <td>4.056</td>\n",
       "      <td>1.715</td>\n",
       "      <td>291.41714</td>\n",
       "      <td>40.485920</td>\n",
       "      <td>14.217</td>\n",
       "    </tr>\n",
       "  </tbody>\n",
       "</table>\n",
       "</div>"
      ],
      "text/plain": [
       "      koi_fpflag_nt  koi_fpflag_ss  koi_fpflag_co  koi_fpflag_ec  koi_period  \\\n",
       "368               1              0              1              1  100.303923   \n",
       "1937              0              0              0              0   15.362605   \n",
       "1151              0              0              0              0    6.988010   \n",
       "5610              0              1              0              0   80.706064   \n",
       "3395              0              0              1              0    1.337562   \n",
       "\n",
       "      koi_time0bk  koi_impact  koi_duration  koi_depth  koi_prad  koi_teq  \\\n",
       "368    277.060700       1.256        8.7020     5450.0     29.55      313   \n",
       "1937   145.573200       0.250        3.7360      468.3      1.80      608   \n",
       "1151   132.569640       0.024        3.1030      193.2      1.39      914   \n",
       "5610   139.436835       0.956        6.8899    11852.0     15.47      428   \n",
       "3395   132.145970       0.055        1.5750       41.0      1.11     2322   \n",
       "\n",
       "      koi_insol  koi_model_snr  koi_tce_plnt_num  koi_steff  koi_slogg  \\\n",
       "368        2.26           63.2                 1       5055      4.566   \n",
       "1937      32.23           19.7                 1       5011      4.484   \n",
       "1151     164.86           17.1                 2       5353      4.358   \n",
       "5610       7.96          268.1                 1       6053      4.494   \n",
       "3395    6870.94            9.5                 1       6406      4.056   \n",
       "\n",
       "      koi_srad         ra        dec  koi_kepmag  \n",
       "368      0.772  284.51962  44.453941      15.783  \n",
       "1937     0.851  296.21518  39.527050      15.384  \n",
       "1151     1.023  293.35172  48.444641      14.531  \n",
       "5610     0.949  287.96375  46.306911      15.395  \n",
       "3395     1.715  291.41714  40.485920      14.217  "
      ]
     },
     "execution_count": 8,
     "metadata": {},
     "output_type": "execute_result"
    }
   ],
   "source": [
    "X_train.head()"
   ]
  },
  {
   "cell_type": "code",
   "execution_count": 9,
   "metadata": {},
   "outputs": [
    {
     "data": {
      "text/plain": [
       "368     FALSE POSITIVE\n",
       "1937         CONFIRMED\n",
       "1151         CONFIRMED\n",
       "5610    FALSE POSITIVE\n",
       "3395    FALSE POSITIVE\n",
       "Name: koi_disposition, dtype: object"
      ]
     },
     "execution_count": 9,
     "metadata": {},
     "output_type": "execute_result"
    }
   ],
   "source": [
    "y_train.head()"
   ]
  },
  {
   "cell_type": "markdown",
   "metadata": {},
   "source": [
    "# Pre-processing\n",
    "\n",
    "Scale the data using the MinMaxScaler and perform some feature selection"
   ]
  },
  {
   "cell_type": "code",
   "execution_count": 10,
   "metadata": {},
   "outputs": [
    {
     "name": "stderr",
     "output_type": "stream",
     "text": [
      "C:\\Users\\j6921\\Anaconda3\\lib\\site-packages\\sklearn\\preprocessing\\data.py:334: DataConversionWarning: Data with input dtype int64, float64 were all converted to float64 by MinMaxScaler.\n",
      "  return self.partial_fit(X, y)\n"
     ]
    }
   ],
   "source": [
    "# Scale your data\n",
    "from sklearn.preprocessing import MinMaxScaler\n",
    "scaler = MinMaxScaler()\n",
    "X_scaler = scaler.fit(X_train)\n",
    "X_train_scaled = X_scaler.transform(X_train)\n",
    "X_test_scaled = X_scaler.transform(X_test)"
   ]
  },
  {
   "cell_type": "code",
   "execution_count": 11,
   "metadata": {},
   "outputs": [
    {
     "data": {
      "text/plain": [
       "array([[1.        , 0.        , 1.        , ..., 0.21340356, 0.49982521,\n",
       "        0.79813524],\n",
       "       [0.        , 0.        , 0.        , ..., 0.74859231, 0.18717802,\n",
       "        0.76201684],\n",
       "       [0.        , 0.        , 0.        , ..., 0.6175604 , 0.75306424,\n",
       "        0.6848013 ],\n",
       "       ...,\n",
       "       [0.        , 1.        , 0.        , ..., 0.792823  , 0.59720043,\n",
       "        0.33094958],\n",
       "       [1.        , 0.        , 0.        , ..., 0.77821733, 0.29000226,\n",
       "        0.5711958 ],\n",
       "       [0.        , 0.        , 1.        , ..., 0.68082222, 0.27185353,\n",
       "        0.6782837 ]])"
      ]
     },
     "execution_count": 11,
     "metadata": {},
     "output_type": "execute_result"
    }
   ],
   "source": [
    "X_train_scaled"
   ]
  },
  {
   "cell_type": "code",
   "execution_count": 12,
   "metadata": {},
   "outputs": [
    {
     "name": "stdout",
     "output_type": "stream",
     "text": [
      "1.0000000000000002 0.0\n",
      "FALSE POSITIVE CANDIDATE\n"
     ]
    }
   ],
   "source": [
    "print(f\"{X_train_scaled.max()} {X_train_scaled.min()}\")\n",
    "print(f\"{y_train.max()} {y_train.min()}\") "
   ]
  },
  {
   "cell_type": "code",
   "execution_count": 13,
   "metadata": {},
   "outputs": [
    {
     "data": {
      "text/plain": [
       "array([[1.        , 0.        , 0.        , ..., 0.71935671, 0.78182436,\n",
       "        0.80338553],\n",
       "       [0.        , 0.        , 0.        , ..., 0.81490723, 0.65788966,\n",
       "        0.74011044],\n",
       "       [0.        , 0.        , 1.        , ..., 0.52590633, 0.93147304,\n",
       "        0.81515344],\n",
       "       ...,\n",
       "       [0.        , 0.        , 0.        , ..., 0.52760861, 0.34348724,\n",
       "        0.38299991],\n",
       "       [0.        , 0.        , 0.        , ..., 0.96229331, 0.47618026,\n",
       "        0.9131891 ],\n",
       "       [1.        , 0.        , 0.        , ..., 0.56599346, 0.48959773,\n",
       "        0.72553634]])"
      ]
     },
     "execution_count": 13,
     "metadata": {},
     "output_type": "execute_result"
    }
   ],
   "source": [
    "X_test_scaled"
   ]
  },
  {
   "cell_type": "markdown",
   "metadata": {},
   "source": [
    "# Train the Model\n",
    "\n"
   ]
  },
  {
   "cell_type": "code",
   "execution_count": 14,
   "metadata": {},
   "outputs": [
    {
     "name": "stdout",
     "output_type": "stream",
     "text": [
      "1.0, 0.903825527350733\n"
     ]
    }
   ],
   "source": [
    "#from sklearn import tree\n",
    "from sklearn.ensemble import RandomForestClassifier\n",
    "rf = RandomForestClassifier(n_estimators=200)\n",
    "rf = rf.fit(X_train_scaled, y_train)\n",
    "#print(f\"Training Data Score: {model2.score(X_train_scaled, y_train)}\")\n",
    "#print(f\"Testing Data Score: {model2.score(X_test_scaled, y_test)}\")\n",
    "a = rf.score(X_train_scaled, y_train)\n",
    "b = rf.score(X_test_scaled, y_test)\n",
    "print(f\"{a}, {b}\")"
   ]
  },
  {
   "cell_type": "code",
   "execution_count": 15,
   "metadata": {},
   "outputs": [
    {
     "data": {
      "text/plain": [
       "RandomForestClassifier(bootstrap=True, class_weight=None, criterion='gini',\n",
       "            max_depth=None, max_features='auto', max_leaf_nodes=None,\n",
       "            min_impurity_decrease=0.0, min_impurity_split=None,\n",
       "            min_samples_leaf=1, min_samples_split=2,\n",
       "            min_weight_fraction_leaf=0.0, n_estimators=200, n_jobs=None,\n",
       "            oob_score=False, random_state=None, verbose=0,\n",
       "            warm_start=False)"
      ]
     },
     "execution_count": 15,
     "metadata": {},
     "output_type": "execute_result"
    }
   ],
   "source": [
    "rf"
   ]
  },
  {
   "cell_type": "code",
   "execution_count": 16,
   "metadata": {},
   "outputs": [
    {
     "data": {
      "text/plain": [
       "[(0.1288632803038706, 'koi_model_snr'),\n",
       " (0.12633523706106595, 'koi_fpflag_co'),\n",
       " (0.12386302436765766, 'koi_fpflag_nt'),\n",
       " (0.09711069751273267, 'koi_fpflag_ss'),\n",
       " (0.07305345649141025, 'koi_prad'),\n",
       " (0.04867003093237136, 'koi_depth'),\n",
       " (0.04437065770291053, 'koi_impact'),\n",
       " (0.04287991935103547, 'koi_period'),\n",
       " (0.040813264389083184, 'koi_fpflag_ec'),\n",
       " (0.03875112568634518, 'koi_teq'),\n",
       " (0.03353576982324478, 'koi_time0bk'),\n",
       " (0.031221863289262606, 'koi_insol'),\n",
       " (0.030002613578955412, 'koi_duration'),\n",
       " (0.024899545371843336, 'koi_steff'),\n",
       " (0.022855549841389218, 'ra'),\n",
       " (0.022327420087386984, 'koi_srad'),\n",
       " (0.021677113401387994, 'dec'),\n",
       " (0.021233487581748617, 'koi_kepmag'),\n",
       " (0.02041065924684901, 'koi_slogg'),\n",
       " (0.007125283979449205, 'koi_tce_plnt_num')]"
      ]
     },
     "execution_count": 16,
     "metadata": {},
     "output_type": "execute_result"
    }
   ],
   "source": [
    "sorted(zip(rf.feature_importances_, feature_names), reverse=True)"
   ]
  },
  {
   "cell_type": "markdown",
   "metadata": {},
   "source": [
    "# Hyperparameter Tuning\n",
    "\n",
    "Use `GridSearchCV` to tune the model's parameters"
   ]
  },
  {
   "cell_type": "code",
   "execution_count": 17,
   "metadata": {},
   "outputs": [],
   "source": [
    "# Create the GridSearchCV model\n",
    "from sklearn.model_selection import GridSearchCV\n",
    "param_grid = { \n",
    "    'n_estimators': [50, 100, 200, 400, 600],\n",
    "    'max_features': ['auto', 'sqrt', 'log2']\n",
    "}\n",
    "grid = GridSearchCV(rf, param_grid, verbose=3)"
   ]
  },
  {
   "cell_type": "code",
   "execution_count": 18,
   "metadata": {},
   "outputs": [
    {
     "name": "stdout",
     "output_type": "stream",
     "text": [
      "Fitting 3 folds for each of 15 candidates, totalling 45 fits\n",
      "[CV] max_features=auto, n_estimators=50 ..............................\n"
     ]
    },
    {
     "name": "stderr",
     "output_type": "stream",
     "text": [
      "C:\\Users\\j6921\\Anaconda3\\lib\\site-packages\\sklearn\\model_selection\\_split.py:2053: FutureWarning: You should specify a value for 'cv' instead of relying on the default value. The default value will change from 3 to 5 in version 0.22.\n",
      "  warnings.warn(CV_WARNING, FutureWarning)\n",
      "[Parallel(n_jobs=1)]: Using backend SequentialBackend with 1 concurrent workers.\n"
     ]
    },
    {
     "name": "stdout",
     "output_type": "stream",
     "text": [
      "[CV]  max_features=auto, n_estimators=50, score=0.8835714285714286, total=   0.1s\n",
      "[CV] max_features=auto, n_estimators=50 ..............................\n"
     ]
    },
    {
     "name": "stderr",
     "output_type": "stream",
     "text": [
      "[Parallel(n_jobs=1)]: Done   1 out of   1 | elapsed:    0.2s remaining:    0.0s\n"
     ]
    },
    {
     "name": "stdout",
     "output_type": "stream",
     "text": [
      "[CV]  max_features=auto, n_estimators=50, score=0.8976377952755905, total=   0.1s\n",
      "[CV] max_features=auto, n_estimators=50 ..............................\n"
     ]
    },
    {
     "name": "stderr",
     "output_type": "stream",
     "text": [
      "[Parallel(n_jobs=1)]: Done   2 out of   2 | elapsed:    0.4s remaining:    0.0s\n"
     ]
    },
    {
     "name": "stdout",
     "output_type": "stream",
     "text": [
      "[CV]  max_features=auto, n_estimators=50, score=0.8768790264853257, total=   0.2s\n",
      "[CV] max_features=auto, n_estimators=100 .............................\n",
      "[CV]  max_features=auto, n_estimators=100, score=0.8871428571428571, total=   0.4s\n",
      "[CV] max_features=auto, n_estimators=100 .............................\n",
      "[CV]  max_features=auto, n_estimators=100, score=0.8904795991410165, total=   0.3s\n",
      "[CV] max_features=auto, n_estimators=100 .............................\n",
      "[CV]  max_features=auto, n_estimators=100, score=0.8790264853256979, total=   0.4s\n",
      "[CV] max_features=auto, n_estimators=200 .............................\n",
      "[CV] . max_features=auto, n_estimators=200, score=0.885, total=   0.8s\n",
      "[CV] max_features=auto, n_estimators=200 .............................\n",
      "[CV]  max_features=auto, n_estimators=200, score=0.8962061560486757, total=   0.8s\n",
      "[CV] max_features=auto, n_estimators=200 .............................\n",
      "[CV]  max_features=auto, n_estimators=200, score=0.8783106657122405, total=   0.9s\n",
      "[CV] max_features=auto, n_estimators=400 .............................\n",
      "[CV]  max_features=auto, n_estimators=400, score=0.8821428571428571, total=   2.2s\n",
      "[CV] max_features=auto, n_estimators=400 .............................\n",
      "[CV]  max_features=auto, n_estimators=400, score=0.8954903364352184, total=   1.9s\n",
      "[CV] max_features=auto, n_estimators=400 .............................\n",
      "[CV]  max_features=auto, n_estimators=400, score=0.8775948460987831, total=   1.8s\n",
      "[CV] max_features=auto, n_estimators=600 .............................\n",
      "[CV] . max_features=auto, n_estimators=600, score=0.885, total=   2.9s\n",
      "[CV] max_features=auto, n_estimators=600 .............................\n",
      "[CV]  max_features=auto, n_estimators=600, score=0.898353614889048, total=   2.7s\n",
      "[CV] max_features=auto, n_estimators=600 .............................\n",
      "[CV]  max_features=auto, n_estimators=600, score=0.8761632068718683, total=   3.4s\n",
      "[CV] max_features=sqrt, n_estimators=50 ..............................\n",
      "[CV]  max_features=sqrt, n_estimators=50, score=0.8842857142857142, total=   0.2s\n",
      "[CV] max_features=sqrt, n_estimators=50 ..............................\n",
      "[CV]  max_features=sqrt, n_estimators=50, score=0.8962061560486757, total=   0.2s\n",
      "[CV] max_features=sqrt, n_estimators=50 ..............................\n",
      "[CV]  max_features=sqrt, n_estimators=50, score=0.8804581245526127, total=   0.2s\n",
      "[CV] max_features=sqrt, n_estimators=100 .............................\n",
      "[CV]  max_features=sqrt, n_estimators=100, score=0.8821428571428571, total=   0.4s\n",
      "[CV] max_features=sqrt, n_estimators=100 .............................\n",
      "[CV]  max_features=sqrt, n_estimators=100, score=0.9026485325697924, total=   0.4s\n",
      "[CV] max_features=sqrt, n_estimators=100 .............................\n",
      "[CV]  max_features=sqrt, n_estimators=100, score=0.8754473872584109, total=   0.4s\n",
      "[CV] max_features=sqrt, n_estimators=200 .............................\n",
      "[CV] .. max_features=sqrt, n_estimators=200, score=0.88, total=   1.0s\n",
      "[CV] max_features=sqrt, n_estimators=200 .............................\n",
      "[CV]  max_features=sqrt, n_estimators=200, score=0.9012168933428776, total=   1.0s\n",
      "[CV] max_features=sqrt, n_estimators=200 .............................\n",
      "[CV]  max_features=sqrt, n_estimators=200, score=0.8711524695776665, total=   1.0s\n",
      "[CV] max_features=sqrt, n_estimators=400 .............................\n",
      "[CV]  max_features=sqrt, n_estimators=400, score=0.8842857142857142, total=   2.2s\n",
      "[CV] max_features=sqrt, n_estimators=400 .............................\n",
      "[CV]  max_features=sqrt, n_estimators=400, score=0.898353614889048, total=   2.0s\n",
      "[CV] max_features=sqrt, n_estimators=400 .............................\n",
      "[CV]  max_features=sqrt, n_estimators=400, score=0.8761632068718683, total=   2.1s\n",
      "[CV] max_features=sqrt, n_estimators=600 .............................\n",
      "[CV] . max_features=sqrt, n_estimators=600, score=0.885, total=   2.8s\n",
      "[CV] max_features=sqrt, n_estimators=600 .............................\n",
      "[CV]  max_features=sqrt, n_estimators=600, score=0.8962061560486757, total=   3.0s\n",
      "[CV] max_features=sqrt, n_estimators=600 .............................\n",
      "[CV]  max_features=sqrt, n_estimators=600, score=0.8783106657122405, total=   3.0s\n",
      "[CV] max_features=log2, n_estimators=50 ..............................\n",
      "[CV]  max_features=log2, n_estimators=50, score=0.8821428571428571, total=   0.2s\n",
      "[CV] max_features=log2, n_estimators=50 ..............................\n",
      "[CV]  max_features=log2, n_estimators=50, score=0.8919112383679313, total=   0.2s\n",
      "[CV] max_features=log2, n_estimators=50 ..............................\n",
      "[CV]  max_features=log2, n_estimators=50, score=0.8761632068718683, total=   0.1s\n",
      "[CV] max_features=log2, n_estimators=100 .............................\n",
      "[CV]  max_features=log2, n_estimators=100, score=0.8878571428571429, total=   0.4s\n",
      "[CV] max_features=log2, n_estimators=100 .............................\n",
      "[CV]  max_features=log2, n_estimators=100, score=0.8976377952755905, total=   0.4s\n",
      "[CV] max_features=log2, n_estimators=100 .............................\n",
      "[CV]  max_features=log2, n_estimators=100, score=0.8790264853256979, total=   0.4s\n",
      "[CV] max_features=log2, n_estimators=200 .............................\n",
      "[CV]  max_features=log2, n_estimators=200, score=0.8828571428571429, total=   0.9s\n",
      "[CV] max_features=log2, n_estimators=200 .............................\n",
      "[CV]  max_features=log2, n_estimators=200, score=0.9012168933428776, total=   0.9s\n",
      "[CV] max_features=log2, n_estimators=200 .............................\n",
      "[CV]  max_features=log2, n_estimators=200, score=0.8754473872584109, total=   1.1s\n",
      "[CV] max_features=log2, n_estimators=400 .............................\n",
      "[CV]  max_features=log2, n_estimators=400, score=0.8878571428571429, total=   2.1s\n",
      "[CV] max_features=log2, n_estimators=400 .............................\n",
      "[CV]  max_features=log2, n_estimators=400, score=0.898353614889048, total=   1.9s\n",
      "[CV] max_features=log2, n_estimators=400 .............................\n",
      "[CV]  max_features=log2, n_estimators=400, score=0.8754473872584109, total=   1.9s\n",
      "[CV] max_features=log2, n_estimators=600 .............................\n",
      "[CV]  max_features=log2, n_estimators=600, score=0.8835714285714286, total=   3.0s\n",
      "[CV] max_features=log2, n_estimators=600 .............................\n",
      "[CV]  max_features=log2, n_estimators=600, score=0.898353614889048, total=   2.9s\n",
      "[CV] max_features=log2, n_estimators=600 .............................\n",
      "[CV]  max_features=log2, n_estimators=600, score=0.8761632068718683, total=   2.7s\n"
     ]
    },
    {
     "name": "stderr",
     "output_type": "stream",
     "text": [
      "[Parallel(n_jobs=1)]: Done  45 out of  45 | elapsed:  1.1min finished\n"
     ]
    },
    {
     "data": {
      "text/plain": [
       "GridSearchCV(cv='warn', error_score='raise-deprecating',\n",
       "       estimator=RandomForestClassifier(bootstrap=True, class_weight=None, criterion='gini',\n",
       "            max_depth=None, max_features='auto', max_leaf_nodes=None,\n",
       "            min_impurity_decrease=0.0, min_impurity_split=None,\n",
       "            min_samples_leaf=1, min_samples_split=2,\n",
       "            min_weight_fraction_leaf=0.0, n_estimators=200, n_jobs=None,\n",
       "            oob_score=False, random_state=None, verbose=0,\n",
       "            warm_start=False),\n",
       "       fit_params=None, iid='warn', n_jobs=None,\n",
       "       param_grid={'n_estimators': [50, 100, 200, 400, 600], 'max_features': ['auto', 'sqrt', 'log2']},\n",
       "       pre_dispatch='2*n_jobs', refit=True, return_train_score='warn',\n",
       "       scoring=None, verbose=3)"
      ]
     },
     "execution_count": 18,
     "metadata": {},
     "output_type": "execute_result"
    }
   ],
   "source": [
    "# Train the model with GridSearch\n",
    "grid.fit(X_train, y_train)"
   ]
  },
  {
   "cell_type": "code",
   "execution_count": 19,
   "metadata": {},
   "outputs": [
    {
     "ename": "AttributeError",
     "evalue": "'RandomForestClassifier' object has no attribute 'best_estimator_'",
     "output_type": "error",
     "traceback": [
      "\u001b[1;31m---------------------------------------------------------------------------\u001b[0m",
      "\u001b[1;31mAttributeError\u001b[0m                            Traceback (most recent call last)",
      "\u001b[1;32m<ipython-input-19-c650a7046c46>\u001b[0m in \u001b[0;36m<module>\u001b[1;34m\u001b[0m\n\u001b[0;32m      2\u001b[0m \u001b[1;31m#print(grid.best_score_)\u001b[0m\u001b[1;33m\u001b[0m\u001b[1;33m\u001b[0m\u001b[1;33m\u001b[0m\u001b[0m\n\u001b[0;32m      3\u001b[0m \u001b[1;33m\u001b[0m\u001b[0m\n\u001b[1;32m----> 4\u001b[1;33m \u001b[0mprint\u001b[0m\u001b[1;33m(\u001b[0m\u001b[1;34m'Best max_features:'\u001b[0m\u001b[1;33m,\u001b[0m \u001b[0mrf\u001b[0m\u001b[1;33m.\u001b[0m\u001b[0mbest_estimator_\u001b[0m\u001b[1;33m.\u001b[0m\u001b[0mget_params\u001b[0m\u001b[1;33m(\u001b[0m\u001b[1;33m)\u001b[0m\u001b[1;33m[\u001b[0m\u001b[1;34m'max_features'\u001b[0m\u001b[1;33m]\u001b[0m\u001b[1;33m)\u001b[0m\u001b[1;33m\u001b[0m\u001b[1;33m\u001b[0m\u001b[0m\n\u001b[0m\u001b[0;32m      5\u001b[0m \u001b[0mprint\u001b[0m\u001b[1;33m(\u001b[0m\u001b[1;34m'Best n_estimators:'\u001b[0m\u001b[1;33m,\u001b[0m \u001b[0mrf\u001b[0m\u001b[1;33m.\u001b[0m\u001b[0mbest_estimator_\u001b[0m\u001b[1;33m.\u001b[0m\u001b[0mget_params\u001b[0m\u001b[1;33m(\u001b[0m\u001b[1;33m)\u001b[0m\u001b[1;33m[\u001b[0m\u001b[1;34m'n_estimators'\u001b[0m\u001b[1;33m]\u001b[0m\u001b[1;33m)\u001b[0m\u001b[1;33m\u001b[0m\u001b[1;33m\u001b[0m\u001b[0m\n\u001b[0;32m      6\u001b[0m \u001b[0mmax_features_tune\u001b[0m \u001b[1;33m=\u001b[0m \u001b[0mrf\u001b[0m\u001b[1;33m.\u001b[0m\u001b[0mbest_estimator_\u001b[0m\u001b[1;33m.\u001b[0m\u001b[0mget_params\u001b[0m\u001b[1;33m(\u001b[0m\u001b[1;33m)\u001b[0m\u001b[1;33m[\u001b[0m\u001b[1;34m'max_features'\u001b[0m\u001b[1;33m]\u001b[0m\u001b[1;33m\u001b[0m\u001b[1;33m\u001b[0m\u001b[0m\n",
      "\u001b[1;31mAttributeError\u001b[0m: 'RandomForestClassifier' object has no attribute 'best_estimator_'"
     ]
    }
   ],
   "source": [
    "#print(grid.best_params_)\n",
    "#print(grid.best_score_)\n",
    "\n",
    "print('Best max_features:', rf.best_estimator_.get_params()['max_features'])\n",
    "print('Best n_estimators:', rf.best_estimator_.get_params()['n_estimators'])\n",
    "max_features_tune = rf.best_estimator_.get_params()['max_features']\n",
    "n_estimators_tune = rf.best_estimator_.get_params()['n_estimators']"
   ]
  },
  {
   "cell_type": "code",
   "execution_count": null,
   "metadata": {},
   "outputs": [],
   "source": [
    "rf_tuned = RandomForestClassifier(n_estimators=n_estimators_tune, max_features=max_features_tune)\n",
    "rf_tuned = rf_tuned.fit(X_train_scaled, y_train)\n",
    "#print(f\"Training Data Score: {model2.score(X_train_scaled, y_train)}\")\n",
    "#print(f\"Testing Data Score: {model2.score(X_test_scaled, y_test)}\")\n",
    "a_tuned = rf_tuned.score(X_train_scaled, y_train)\n",
    "b_tuned = rf_tuned.score(X_test_scaled, y_test)\n",
    "print(f\"{a_tuned}, {b_tuned}\")"
   ]
  },
  {
   "cell_type": "markdown",
   "metadata": {},
   "source": [
    "# Save the Model"
   ]
  },
  {
   "cell_type": "code",
   "execution_count": null,
   "metadata": {},
   "outputs": [],
   "source": [
    "# save your model by updating \"your_name\" with your name\n",
    "# and \"your_model\" with your model variable\n",
    "# be sure to turn this in to BCS\n",
    "# if joblib fails to import, try running the command to install in terminal/git-bash\n",
    "import joblib\n",
    "filename = 'your_name.sav'\n",
    "joblib.dump(your_model, filename)"
   ]
  }
 ],
 "metadata": {
  "kernel_info": {
   "name": "dev"
  },
  "kernelspec": {
   "display_name": "Python 3",
   "language": "python",
   "name": "python3"
  },
  "language_info": {
   "codemirror_mode": {
    "name": "ipython",
    "version": 3
   },
   "file_extension": ".py",
   "mimetype": "text/x-python",
   "name": "python",
   "nbconvert_exporter": "python",
   "pygments_lexer": "ipython3",
   "version": "3.7.3"
  },
  "nteract": {
   "version": "0.12.3"
  }
 },
 "nbformat": 4,
 "nbformat_minor": 2
}
