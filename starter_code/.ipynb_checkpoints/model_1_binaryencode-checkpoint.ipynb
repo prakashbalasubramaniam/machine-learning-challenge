{
 "cells": [
  {
   "cell_type": "code",
   "execution_count": 1,
   "metadata": {},
   "outputs": [],
   "source": [
    "# Update sklearn to prevent version mismatches\n",
    "#!pip install sklearn --upgrade"
   ]
  },
  {
   "cell_type": "code",
   "execution_count": 2,
   "metadata": {},
   "outputs": [],
   "source": [
    "# install joblib. This will be used to save your model. \n",
    "# Restart your kernel after installing \n",
    "#!pip install joblib"
   ]
  },
  {
   "cell_type": "code",
   "execution_count": 3,
   "metadata": {},
   "outputs": [],
   "source": [
    "import pandas as pd"
   ]
  },
  {
   "cell_type": "markdown",
   "metadata": {},
   "source": [
    "# Read the CSV and Perform Basic Data Cleaning"
   ]
  },
  {
   "cell_type": "code",
   "execution_count": 4,
   "metadata": {
    "scrolled": true
   },
   "outputs": [
    {
     "data": {
      "text/html": [
       "<div>\n",
       "<style scoped>\n",
       "    .dataframe tbody tr th:only-of-type {\n",
       "        vertical-align: middle;\n",
       "    }\n",
       "\n",
       "    .dataframe tbody tr th {\n",
       "        vertical-align: top;\n",
       "    }\n",
       "\n",
       "    .dataframe thead th {\n",
       "        text-align: right;\n",
       "    }\n",
       "</style>\n",
       "<table border=\"1\" class=\"dataframe\">\n",
       "  <thead>\n",
       "    <tr style=\"text-align: right;\">\n",
       "      <th></th>\n",
       "      <th>koi_disposition</th>\n",
       "      <th>koi_fpflag_nt</th>\n",
       "      <th>koi_fpflag_ss</th>\n",
       "      <th>koi_fpflag_co</th>\n",
       "      <th>koi_fpflag_ec</th>\n",
       "      <th>koi_period</th>\n",
       "      <th>koi_period_err1</th>\n",
       "      <th>koi_period_err2</th>\n",
       "      <th>koi_time0bk</th>\n",
       "      <th>koi_time0bk_err1</th>\n",
       "      <th>...</th>\n",
       "      <th>koi_steff_err2</th>\n",
       "      <th>koi_slogg</th>\n",
       "      <th>koi_slogg_err1</th>\n",
       "      <th>koi_slogg_err2</th>\n",
       "      <th>koi_srad</th>\n",
       "      <th>koi_srad_err1</th>\n",
       "      <th>koi_srad_err2</th>\n",
       "      <th>ra</th>\n",
       "      <th>dec</th>\n",
       "      <th>koi_kepmag</th>\n",
       "    </tr>\n",
       "  </thead>\n",
       "  <tbody>\n",
       "    <tr>\n",
       "      <th>0</th>\n",
       "      <td>CONFIRMED</td>\n",
       "      <td>0</td>\n",
       "      <td>0</td>\n",
       "      <td>0</td>\n",
       "      <td>0</td>\n",
       "      <td>54.418383</td>\n",
       "      <td>2.479000e-04</td>\n",
       "      <td>-2.479000e-04</td>\n",
       "      <td>162.513840</td>\n",
       "      <td>0.003520</td>\n",
       "      <td>...</td>\n",
       "      <td>-81</td>\n",
       "      <td>4.467</td>\n",
       "      <td>0.064</td>\n",
       "      <td>-0.096</td>\n",
       "      <td>0.927</td>\n",
       "      <td>0.105</td>\n",
       "      <td>-0.061</td>\n",
       "      <td>291.93423</td>\n",
       "      <td>48.141651</td>\n",
       "      <td>15.347</td>\n",
       "    </tr>\n",
       "    <tr>\n",
       "      <th>1</th>\n",
       "      <td>FALSE POSITIVE</td>\n",
       "      <td>0</td>\n",
       "      <td>1</td>\n",
       "      <td>0</td>\n",
       "      <td>0</td>\n",
       "      <td>19.899140</td>\n",
       "      <td>1.490000e-05</td>\n",
       "      <td>-1.490000e-05</td>\n",
       "      <td>175.850252</td>\n",
       "      <td>0.000581</td>\n",
       "      <td>...</td>\n",
       "      <td>-176</td>\n",
       "      <td>4.544</td>\n",
       "      <td>0.044</td>\n",
       "      <td>-0.176</td>\n",
       "      <td>0.868</td>\n",
       "      <td>0.233</td>\n",
       "      <td>-0.078</td>\n",
       "      <td>297.00482</td>\n",
       "      <td>48.134129</td>\n",
       "      <td>15.436</td>\n",
       "    </tr>\n",
       "    <tr>\n",
       "      <th>2</th>\n",
       "      <td>FALSE POSITIVE</td>\n",
       "      <td>0</td>\n",
       "      <td>1</td>\n",
       "      <td>0</td>\n",
       "      <td>0</td>\n",
       "      <td>1.736952</td>\n",
       "      <td>2.630000e-07</td>\n",
       "      <td>-2.630000e-07</td>\n",
       "      <td>170.307565</td>\n",
       "      <td>0.000115</td>\n",
       "      <td>...</td>\n",
       "      <td>-174</td>\n",
       "      <td>4.564</td>\n",
       "      <td>0.053</td>\n",
       "      <td>-0.168</td>\n",
       "      <td>0.791</td>\n",
       "      <td>0.201</td>\n",
       "      <td>-0.067</td>\n",
       "      <td>285.53461</td>\n",
       "      <td>48.285210</td>\n",
       "      <td>15.597</td>\n",
       "    </tr>\n",
       "    <tr>\n",
       "      <th>3</th>\n",
       "      <td>CONFIRMED</td>\n",
       "      <td>0</td>\n",
       "      <td>0</td>\n",
       "      <td>0</td>\n",
       "      <td>0</td>\n",
       "      <td>2.525592</td>\n",
       "      <td>3.760000e-06</td>\n",
       "      <td>-3.760000e-06</td>\n",
       "      <td>171.595550</td>\n",
       "      <td>0.001130</td>\n",
       "      <td>...</td>\n",
       "      <td>-211</td>\n",
       "      <td>4.438</td>\n",
       "      <td>0.070</td>\n",
       "      <td>-0.210</td>\n",
       "      <td>1.046</td>\n",
       "      <td>0.334</td>\n",
       "      <td>-0.133</td>\n",
       "      <td>288.75488</td>\n",
       "      <td>48.226200</td>\n",
       "      <td>15.509</td>\n",
       "    </tr>\n",
       "    <tr>\n",
       "      <th>4</th>\n",
       "      <td>CONFIRMED</td>\n",
       "      <td>0</td>\n",
       "      <td>0</td>\n",
       "      <td>0</td>\n",
       "      <td>0</td>\n",
       "      <td>4.134435</td>\n",
       "      <td>1.050000e-05</td>\n",
       "      <td>-1.050000e-05</td>\n",
       "      <td>172.979370</td>\n",
       "      <td>0.001900</td>\n",
       "      <td>...</td>\n",
       "      <td>-232</td>\n",
       "      <td>4.486</td>\n",
       "      <td>0.054</td>\n",
       "      <td>-0.229</td>\n",
       "      <td>0.972</td>\n",
       "      <td>0.315</td>\n",
       "      <td>-0.105</td>\n",
       "      <td>296.28613</td>\n",
       "      <td>48.224670</td>\n",
       "      <td>15.714</td>\n",
       "    </tr>\n",
       "  </tbody>\n",
       "</table>\n",
       "<p>5 rows × 41 columns</p>\n",
       "</div>"
      ],
      "text/plain": [
       "  koi_disposition  koi_fpflag_nt  koi_fpflag_ss  koi_fpflag_co  koi_fpflag_ec  \\\n",
       "0       CONFIRMED              0              0              0              0   \n",
       "1  FALSE POSITIVE              0              1              0              0   \n",
       "2  FALSE POSITIVE              0              1              0              0   \n",
       "3       CONFIRMED              0              0              0              0   \n",
       "4       CONFIRMED              0              0              0              0   \n",
       "\n",
       "   koi_period  koi_period_err1  koi_period_err2  koi_time0bk  \\\n",
       "0   54.418383     2.479000e-04    -2.479000e-04   162.513840   \n",
       "1   19.899140     1.490000e-05    -1.490000e-05   175.850252   \n",
       "2    1.736952     2.630000e-07    -2.630000e-07   170.307565   \n",
       "3    2.525592     3.760000e-06    -3.760000e-06   171.595550   \n",
       "4    4.134435     1.050000e-05    -1.050000e-05   172.979370   \n",
       "\n",
       "   koi_time0bk_err1  ...  koi_steff_err2  koi_slogg  koi_slogg_err1  \\\n",
       "0          0.003520  ...             -81      4.467           0.064   \n",
       "1          0.000581  ...            -176      4.544           0.044   \n",
       "2          0.000115  ...            -174      4.564           0.053   \n",
       "3          0.001130  ...            -211      4.438           0.070   \n",
       "4          0.001900  ...            -232      4.486           0.054   \n",
       "\n",
       "   koi_slogg_err2  koi_srad  koi_srad_err1  koi_srad_err2         ra  \\\n",
       "0          -0.096     0.927          0.105         -0.061  291.93423   \n",
       "1          -0.176     0.868          0.233         -0.078  297.00482   \n",
       "2          -0.168     0.791          0.201         -0.067  285.53461   \n",
       "3          -0.210     1.046          0.334         -0.133  288.75488   \n",
       "4          -0.229     0.972          0.315         -0.105  296.28613   \n",
       "\n",
       "         dec  koi_kepmag  \n",
       "0  48.141651      15.347  \n",
       "1  48.134129      15.436  \n",
       "2  48.285210      15.597  \n",
       "3  48.226200      15.509  \n",
       "4  48.224670      15.714  \n",
       "\n",
       "[5 rows x 41 columns]"
      ]
     },
     "execution_count": 4,
     "metadata": {},
     "output_type": "execute_result"
    }
   ],
   "source": [
    "df = pd.read_csv(\"exoplanet_data.csv\")\n",
    "# Drop the null columns where all values are null\n",
    "df = df.dropna(axis='columns', how='all')\n",
    "# Drop the null rows\n",
    "df = df.dropna()\n",
    "df.head()"
   ]
  },
  {
   "cell_type": "markdown",
   "metadata": {},
   "source": [
    "# Select your features (columns)"
   ]
  },
  {
   "cell_type": "code",
   "execution_count": 5,
   "metadata": {},
   "outputs": [
    {
     "data": {
      "text/plain": [
       "Index(['koi_fpflag_nt', 'koi_fpflag_ss', 'koi_fpflag_co', 'koi_fpflag_ec',\n",
       "       'koi_period', 'koi_time0bk', 'koi_impact', 'koi_duration', 'koi_depth',\n",
       "       'koi_prad', 'koi_teq', 'koi_insol', 'koi_model_snr', 'koi_tce_plnt_num',\n",
       "       'koi_steff', 'koi_slogg', 'koi_srad', 'ra', 'dec', 'koi_kepmag'],\n",
       "      dtype='object')"
      ]
     },
     "execution_count": 5,
     "metadata": {},
     "output_type": "execute_result"
    }
   ],
   "source": [
    "# Set features. This will also be used as your x values.\n",
    "selected_features = df[['koi_fpflag_nt','koi_fpflag_ss','koi_fpflag_co','koi_fpflag_ec','koi_period','koi_time0bk',\n",
    "                        'koi_impact','koi_duration','koi_depth','koi_prad','koi_teq','koi_insol','koi_model_snr',\n",
    "                        'koi_tce_plnt_num','koi_steff','koi_slogg','koi_srad','ra','dec','koi_kepmag']]\n",
    "feature_names = selected_features.columns\n",
    "feature_names"
   ]
  },
  {
   "cell_type": "markdown",
   "metadata": {},
   "source": [
    "# Create a Train Test Split\n",
    "\n",
    "Use `koi_disposition` for the y values"
   ]
  },
  {
   "cell_type": "code",
   "execution_count": 6,
   "metadata": {},
   "outputs": [
    {
     "data": {
      "text/html": [
       "<div>\n",
       "<style scoped>\n",
       "    .dataframe tbody tr th:only-of-type {\n",
       "        vertical-align: middle;\n",
       "    }\n",
       "\n",
       "    .dataframe tbody tr th {\n",
       "        vertical-align: top;\n",
       "    }\n",
       "\n",
       "    .dataframe thead th {\n",
       "        text-align: right;\n",
       "    }\n",
       "</style>\n",
       "<table border=\"1\" class=\"dataframe\">\n",
       "  <thead>\n",
       "    <tr style=\"text-align: right;\">\n",
       "      <th></th>\n",
       "      <th>CANDIDATE</th>\n",
       "      <th>CONFIRMED</th>\n",
       "      <th>FALSE POSITIVE</th>\n",
       "    </tr>\n",
       "  </thead>\n",
       "  <tbody>\n",
       "    <tr>\n",
       "      <th>0</th>\n",
       "      <td>0</td>\n",
       "      <td>1</td>\n",
       "      <td>0</td>\n",
       "    </tr>\n",
       "    <tr>\n",
       "      <th>1</th>\n",
       "      <td>0</td>\n",
       "      <td>0</td>\n",
       "      <td>1</td>\n",
       "    </tr>\n",
       "    <tr>\n",
       "      <th>2</th>\n",
       "      <td>0</td>\n",
       "      <td>0</td>\n",
       "      <td>1</td>\n",
       "    </tr>\n",
       "    <tr>\n",
       "      <th>3</th>\n",
       "      <td>0</td>\n",
       "      <td>1</td>\n",
       "      <td>0</td>\n",
       "    </tr>\n",
       "    <tr>\n",
       "      <th>4</th>\n",
       "      <td>0</td>\n",
       "      <td>1</td>\n",
       "      <td>0</td>\n",
       "    </tr>\n",
       "  </tbody>\n",
       "</table>\n",
       "</div>"
      ],
      "text/plain": [
       "   CANDIDATE  CONFIRMED  FALSE POSITIVE\n",
       "0          0          1               0\n",
       "1          0          0               1\n",
       "2          0          0               1\n",
       "3          0          1               0\n",
       "4          0          1               0"
      ]
     },
     "execution_count": 6,
     "metadata": {},
     "output_type": "execute_result"
    }
   ],
   "source": [
    "# Set disposition for y\n",
    "target = df[\"koi_disposition\"]\n",
    "target_names = [\"CANDIDATE\", \"CONFIRMED\", \"FALSE POSITIVE\"]\n",
    "\n",
    "data = target.copy()\n",
    "data_binary_encoded = pd.get_dummies(data)\n",
    "data_binary_encoded.head()"
   ]
  },
  {
   "cell_type": "code",
   "execution_count": 7,
   "metadata": {},
   "outputs": [],
   "source": [
    "# Test split data, test data = 20%\n",
    "from sklearn.model_selection import train_test_split\n",
    "X_train, X_test, y_train, y_test = train_test_split(selected_features, data_binary_encoded, test_size=0.20, random_state=42)\n",
    "#X_train, X_test, y_train, y_test = train_test_split(selected_features, target, test_size=0.40, random_state=42)"
   ]
  },
  {
   "cell_type": "code",
   "execution_count": 8,
   "metadata": {},
   "outputs": [
    {
     "data": {
      "text/html": [
       "<div>\n",
       "<style scoped>\n",
       "    .dataframe tbody tr th:only-of-type {\n",
       "        vertical-align: middle;\n",
       "    }\n",
       "\n",
       "    .dataframe tbody tr th {\n",
       "        vertical-align: top;\n",
       "    }\n",
       "\n",
       "    .dataframe thead th {\n",
       "        text-align: right;\n",
       "    }\n",
       "</style>\n",
       "<table border=\"1\" class=\"dataframe\">\n",
       "  <thead>\n",
       "    <tr style=\"text-align: right;\">\n",
       "      <th></th>\n",
       "      <th>koi_fpflag_nt</th>\n",
       "      <th>koi_fpflag_ss</th>\n",
       "      <th>koi_fpflag_co</th>\n",
       "      <th>koi_fpflag_ec</th>\n",
       "      <th>koi_period</th>\n",
       "      <th>koi_time0bk</th>\n",
       "      <th>koi_impact</th>\n",
       "      <th>koi_duration</th>\n",
       "      <th>koi_depth</th>\n",
       "      <th>koi_prad</th>\n",
       "      <th>koi_teq</th>\n",
       "      <th>koi_insol</th>\n",
       "      <th>koi_model_snr</th>\n",
       "      <th>koi_tce_plnt_num</th>\n",
       "      <th>koi_steff</th>\n",
       "      <th>koi_slogg</th>\n",
       "      <th>koi_srad</th>\n",
       "      <th>ra</th>\n",
       "      <th>dec</th>\n",
       "      <th>koi_kepmag</th>\n",
       "    </tr>\n",
       "  </thead>\n",
       "  <tbody>\n",
       "    <tr>\n",
       "      <th>3875</th>\n",
       "      <td>1</td>\n",
       "      <td>0</td>\n",
       "      <td>0</td>\n",
       "      <td>0</td>\n",
       "      <td>11.377528</td>\n",
       "      <td>132.58480</td>\n",
       "      <td>1.415</td>\n",
       "      <td>12.9180</td>\n",
       "      <td>1651.3</td>\n",
       "      <td>82.26</td>\n",
       "      <td>1177</td>\n",
       "      <td>453.61</td>\n",
       "      <td>38.2</td>\n",
       "      <td>1</td>\n",
       "      <td>6943</td>\n",
       "      <td>4.162</td>\n",
       "      <td>1.660</td>\n",
       "      <td>300.19409</td>\n",
       "      <td>45.145741</td>\n",
       "      <td>13.930</td>\n",
       "    </tr>\n",
       "    <tr>\n",
       "      <th>1768</th>\n",
       "      <td>0</td>\n",
       "      <td>0</td>\n",
       "      <td>0</td>\n",
       "      <td>0</td>\n",
       "      <td>2.215713</td>\n",
       "      <td>131.82107</td>\n",
       "      <td>0.796</td>\n",
       "      <td>1.8211</td>\n",
       "      <td>285.1</td>\n",
       "      <td>1.70</td>\n",
       "      <td>1283</td>\n",
       "      <td>638.56</td>\n",
       "      <td>22.1</td>\n",
       "      <td>1</td>\n",
       "      <td>5417</td>\n",
       "      <td>4.447</td>\n",
       "      <td>0.901</td>\n",
       "      <td>297.02008</td>\n",
       "      <td>43.432549</td>\n",
       "      <td>15.392</td>\n",
       "    </tr>\n",
       "    <tr>\n",
       "      <th>3250</th>\n",
       "      <td>0</td>\n",
       "      <td>0</td>\n",
       "      <td>0</td>\n",
       "      <td>0</td>\n",
       "      <td>7.785911</td>\n",
       "      <td>137.87340</td>\n",
       "      <td>0.675</td>\n",
       "      <td>7.7880</td>\n",
       "      <td>45.5</td>\n",
       "      <td>0.68</td>\n",
       "      <td>939</td>\n",
       "      <td>183.92</td>\n",
       "      <td>12.0</td>\n",
       "      <td>1</td>\n",
       "      <td>6045</td>\n",
       "      <td>4.479</td>\n",
       "      <td>0.954</td>\n",
       "      <td>290.42307</td>\n",
       "      <td>51.388729</td>\n",
       "      <td>13.515</td>\n",
       "    </tr>\n",
       "    <tr>\n",
       "      <th>6574</th>\n",
       "      <td>1</td>\n",
       "      <td>0</td>\n",
       "      <td>1</td>\n",
       "      <td>1</td>\n",
       "      <td>2.404557</td>\n",
       "      <td>131.67616</td>\n",
       "      <td>0.970</td>\n",
       "      <td>7.4918</td>\n",
       "      <td>408.7</td>\n",
       "      <td>4.69</td>\n",
       "      <td>1958</td>\n",
       "      <td>3474.41</td>\n",
       "      <td>147.1</td>\n",
       "      <td>1</td>\n",
       "      <td>6426</td>\n",
       "      <td>4.013</td>\n",
       "      <td>1.775</td>\n",
       "      <td>293.21356</td>\n",
       "      <td>46.175129</td>\n",
       "      <td>13.474</td>\n",
       "    </tr>\n",
       "    <tr>\n",
       "      <th>2815</th>\n",
       "      <td>0</td>\n",
       "      <td>0</td>\n",
       "      <td>0</td>\n",
       "      <td>0</td>\n",
       "      <td>110.461746</td>\n",
       "      <td>147.54650</td>\n",
       "      <td>0.036</td>\n",
       "      <td>12.4600</td>\n",
       "      <td>331.2</td>\n",
       "      <td>1.93</td>\n",
       "      <td>420</td>\n",
       "      <td>7.34</td>\n",
       "      <td>15.8</td>\n",
       "      <td>1</td>\n",
       "      <td>6321</td>\n",
       "      <td>4.434</td>\n",
       "      <td>1.058</td>\n",
       "      <td>287.03952</td>\n",
       "      <td>46.481701</td>\n",
       "      <td>15.092</td>\n",
       "    </tr>\n",
       "  </tbody>\n",
       "</table>\n",
       "</div>"
      ],
      "text/plain": [
       "      koi_fpflag_nt  koi_fpflag_ss  koi_fpflag_co  koi_fpflag_ec  koi_period  \\\n",
       "3875              1              0              0              0   11.377528   \n",
       "1768              0              0              0              0    2.215713   \n",
       "3250              0              0              0              0    7.785911   \n",
       "6574              1              0              1              1    2.404557   \n",
       "2815              0              0              0              0  110.461746   \n",
       "\n",
       "      koi_time0bk  koi_impact  koi_duration  koi_depth  koi_prad  koi_teq  \\\n",
       "3875    132.58480       1.415       12.9180     1651.3     82.26     1177   \n",
       "1768    131.82107       0.796        1.8211      285.1      1.70     1283   \n",
       "3250    137.87340       0.675        7.7880       45.5      0.68      939   \n",
       "6574    131.67616       0.970        7.4918      408.7      4.69     1958   \n",
       "2815    147.54650       0.036       12.4600      331.2      1.93      420   \n",
       "\n",
       "      koi_insol  koi_model_snr  koi_tce_plnt_num  koi_steff  koi_slogg  \\\n",
       "3875     453.61           38.2                 1       6943      4.162   \n",
       "1768     638.56           22.1                 1       5417      4.447   \n",
       "3250     183.92           12.0                 1       6045      4.479   \n",
       "6574    3474.41          147.1                 1       6426      4.013   \n",
       "2815       7.34           15.8                 1       6321      4.434   \n",
       "\n",
       "      koi_srad         ra        dec  koi_kepmag  \n",
       "3875     1.660  300.19409  45.145741      13.930  \n",
       "1768     0.901  297.02008  43.432549      15.392  \n",
       "3250     0.954  290.42307  51.388729      13.515  \n",
       "6574     1.775  293.21356  46.175129      13.474  \n",
       "2815     1.058  287.03952  46.481701      15.092  "
      ]
     },
     "execution_count": 8,
     "metadata": {},
     "output_type": "execute_result"
    }
   ],
   "source": [
    "X_train.head()"
   ]
  },
  {
   "cell_type": "code",
   "execution_count": 9,
   "metadata": {},
   "outputs": [
    {
     "data": {
      "text/html": [
       "<div>\n",
       "<style scoped>\n",
       "    .dataframe tbody tr th:only-of-type {\n",
       "        vertical-align: middle;\n",
       "    }\n",
       "\n",
       "    .dataframe tbody tr th {\n",
       "        vertical-align: top;\n",
       "    }\n",
       "\n",
       "    .dataframe thead th {\n",
       "        text-align: right;\n",
       "    }\n",
       "</style>\n",
       "<table border=\"1\" class=\"dataframe\">\n",
       "  <thead>\n",
       "    <tr style=\"text-align: right;\">\n",
       "      <th></th>\n",
       "      <th>CANDIDATE</th>\n",
       "      <th>CONFIRMED</th>\n",
       "      <th>FALSE POSITIVE</th>\n",
       "    </tr>\n",
       "  </thead>\n",
       "  <tbody>\n",
       "    <tr>\n",
       "      <th>3875</th>\n",
       "      <td>0</td>\n",
       "      <td>0</td>\n",
       "      <td>1</td>\n",
       "    </tr>\n",
       "    <tr>\n",
       "      <th>1768</th>\n",
       "      <td>0</td>\n",
       "      <td>1</td>\n",
       "      <td>0</td>\n",
       "    </tr>\n",
       "    <tr>\n",
       "      <th>3250</th>\n",
       "      <td>1</td>\n",
       "      <td>0</td>\n",
       "      <td>0</td>\n",
       "    </tr>\n",
       "    <tr>\n",
       "      <th>6574</th>\n",
       "      <td>0</td>\n",
       "      <td>0</td>\n",
       "      <td>1</td>\n",
       "    </tr>\n",
       "    <tr>\n",
       "      <th>2815</th>\n",
       "      <td>1</td>\n",
       "      <td>0</td>\n",
       "      <td>0</td>\n",
       "    </tr>\n",
       "  </tbody>\n",
       "</table>\n",
       "</div>"
      ],
      "text/plain": [
       "      CANDIDATE  CONFIRMED  FALSE POSITIVE\n",
       "3875          0          0               1\n",
       "1768          0          1               0\n",
       "3250          1          0               0\n",
       "6574          0          0               1\n",
       "2815          1          0               0"
      ]
     },
     "execution_count": 9,
     "metadata": {},
     "output_type": "execute_result"
    }
   ],
   "source": [
    "y_train.head()"
   ]
  },
  {
   "cell_type": "markdown",
   "metadata": {},
   "source": [
    "# Pre-processing\n",
    "\n",
    "Scale the data using the MinMaxScaler and perform some feature selection"
   ]
  },
  {
   "cell_type": "code",
   "execution_count": 10,
   "metadata": {},
   "outputs": [
    {
     "name": "stderr",
     "output_type": "stream",
     "text": [
      "C:\\Users\\j6921\\Anaconda3\\lib\\site-packages\\sklearn\\preprocessing\\data.py:334: DataConversionWarning: Data with input dtype int64, float64 were all converted to float64 by MinMaxScaler.\n",
      "  return self.partial_fit(X, y)\n"
     ]
    }
   ],
   "source": [
    "# Scale your data\n",
    "from sklearn.preprocessing import MinMaxScaler\n",
    "scaler = MinMaxScaler()\n",
    "X_scaler = scaler.fit(X_train)\n",
    "X_train_scaled = X_scaler.transform(X_train)\n",
    "X_test_scaled = X_scaler.transform(X_test)"
   ]
  },
  {
   "cell_type": "code",
   "execution_count": 11,
   "metadata": {},
   "outputs": [
    {
     "data": {
      "text/plain": [
       "array([[1.        , 0.        , 0.        , ..., 0.9306672 , 0.54372496,\n",
       "        0.57558476],\n",
       "       [0.        , 0.        , 0.        , ..., 0.78542453, 0.43501043,\n",
       "        0.69642119],\n",
       "       [0.        , 0.        , 0.        , ..., 0.48354539, 0.93988811,\n",
       "        0.5412844 ],\n",
       "       ...,\n",
       "       [0.        , 1.        , 0.        , ..., 0.792823  , 0.59720043,\n",
       "        0.30217373],\n",
       "       [1.        , 0.        , 0.        , ..., 0.77821733, 0.29000226,\n",
       "        0.52153071],\n",
       "       [0.        , 0.        , 1.        , ..., 0.68082222, 0.27185353,\n",
       "        0.61930738]])"
      ]
     },
     "execution_count": 11,
     "metadata": {},
     "output_type": "execute_result"
    }
   ],
   "source": [
    "X_train_scaled"
   ]
  },
  {
   "cell_type": "code",
   "execution_count": 12,
   "metadata": {},
   "outputs": [
    {
     "name": "stdout",
     "output_type": "stream",
     "text": [
      "1.0000000000000002 0.0\n",
      "CANDIDATE         1\n",
      "CONFIRMED         1\n",
      "FALSE POSITIVE    1\n",
      "dtype: uint8 CANDIDATE         0\n",
      "CONFIRMED         0\n",
      "FALSE POSITIVE    0\n",
      "dtype: uint8\n"
     ]
    }
   ],
   "source": [
    "print(f\"{X_train_scaled.max()} {X_train_scaled.min()}\")\n",
    "print(f\"{y_train.max()} {y_train.min()}\") "
   ]
  },
  {
   "cell_type": "code",
   "execution_count": 13,
   "metadata": {},
   "outputs": [
    {
     "data": {
      "text/plain": [
       "array([[1.        , 0.        , 0.        , ..., 0.71935671, 0.78182436,\n",
       "        0.7335317 ],\n",
       "       [0.        , 0.        , 0.        , ..., 0.81490723, 0.65788966,\n",
       "        0.67575833],\n",
       "       [0.        , 0.        , 1.        , ..., 0.52590633, 0.93147304,\n",
       "        0.74427639],\n",
       "       ...,\n",
       "       [0.        , 0.        , 0.        , ..., 0.32559151, 0.51596627,\n",
       "        0.61905943],\n",
       "       [0.        , 0.        , 0.        , ..., 0.86459389, 0.56407312,\n",
       "        0.50607488],\n",
       "       [1.        , 0.        , 0.        , ..., 0.8780002 , 0.29549506,\n",
       "        0.32324986]])"
      ]
     },
     "execution_count": 13,
     "metadata": {},
     "output_type": "execute_result"
    }
   ],
   "source": [
    "X_test_scaled"
   ]
  },
  {
   "cell_type": "markdown",
   "metadata": {},
   "source": [
    "# Train the Model\n",
    "\n"
   ]
  },
  {
   "cell_type": "code",
   "execution_count": 14,
   "metadata": {},
   "outputs": [
    {
     "name": "stdout",
     "output_type": "stream",
     "text": [
      "1.0, 0.8920657612580415\n"
     ]
    }
   ],
   "source": [
    "#from sklearn import tree\n",
    "from sklearn.ensemble import RandomForestClassifier\n",
    "rf = RandomForestClassifier(n_estimators=200)\n",
    "rf = rf.fit(X_train_scaled, y_train)\n",
    "#print(f\"Training Data Score: {model2.score(X_train_scaled, y_train)}\")\n",
    "#print(f\"Testing Data Score: {model2.score(X_test_scaled, y_test)}\")\n",
    "a = rf.score(X_train_scaled, y_train)\n",
    "b = rf.score(X_test_scaled, y_test)\n",
    "print(f\"{a}, {b}\")"
   ]
  },
  {
   "cell_type": "code",
   "execution_count": 15,
   "metadata": {},
   "outputs": [
    {
     "data": {
      "text/plain": [
       "RandomForestClassifier(bootstrap=True, class_weight=None, criterion='gini',\n",
       "            max_depth=None, max_features='auto', max_leaf_nodes=None,\n",
       "            min_impurity_decrease=0.0, min_impurity_split=None,\n",
       "            min_samples_leaf=1, min_samples_split=2,\n",
       "            min_weight_fraction_leaf=0.0, n_estimators=200, n_jobs=None,\n",
       "            oob_score=False, random_state=None, verbose=0,\n",
       "            warm_start=False)"
      ]
     },
     "execution_count": 15,
     "metadata": {},
     "output_type": "execute_result"
    }
   ],
   "source": [
    "rf"
   ]
  },
  {
   "cell_type": "code",
   "execution_count": 16,
   "metadata": {},
   "outputs": [
    {
     "data": {
      "text/plain": [
       "[(0.13048489976412336, 'koi_model_snr'),\n",
       " (0.13027940079292705, 'koi_fpflag_nt'),\n",
       " (0.12249608405698086, 'koi_fpflag_co'),\n",
       " (0.10323390840030004, 'koi_fpflag_ss'),\n",
       " (0.06835017580323038, 'koi_prad'),\n",
       " (0.056631559722650396, 'koi_depth'),\n",
       " (0.047464507889458066, 'koi_fpflag_ec'),\n",
       " (0.04550873514219972, 'koi_period'),\n",
       " (0.042867179793500736, 'koi_impact'),\n",
       " (0.03034929485282071, 'koi_teq'),\n",
       " (0.02923998185142837, 'koi_duration'),\n",
       " (0.028816132446278894, 'koi_time0bk'),\n",
       " (0.028715151632623514, 'koi_insol'),\n",
       " (0.02294685928217951, 'koi_steff'),\n",
       " (0.022083043940613542, 'ra'),\n",
       " (0.021679444907440462, 'dec'),\n",
       " (0.020795942171865645, 'koi_srad'),\n",
       " (0.020574149640312848, 'koi_kepmag'),\n",
       " (0.019852424613287553, 'koi_slogg'),\n",
       " (0.007631123295778417, 'koi_tce_plnt_num')]"
      ]
     },
     "execution_count": 16,
     "metadata": {},
     "output_type": "execute_result"
    }
   ],
   "source": [
    "sorted(zip(rf.feature_importances_, feature_names), reverse=True)"
   ]
  },
  {
   "cell_type": "markdown",
   "metadata": {},
   "source": [
    "# Hyperparameter Tuning\n",
    "\n",
    "Use `GridSearchCV` to tune the model's parameters"
   ]
  },
  {
   "cell_type": "code",
   "execution_count": 17,
   "metadata": {},
   "outputs": [],
   "source": [
    "# Create the GridSearchCV model\n",
    "from sklearn.model_selection import GridSearchCV\n",
    "param_grid = { \n",
    "    'n_estimators': [50, 100, 200, 400, 600],\n",
    "    'max_features': ['auto', 'sqrt', 'log2']\n",
    "}\n",
    "grid = GridSearchCV(rf, param_grid, verbose=3)"
   ]
  },
  {
   "cell_type": "code",
   "execution_count": 18,
   "metadata": {},
   "outputs": [
    {
     "name": "stdout",
     "output_type": "stream",
     "text": [
      "Fitting 3 folds for each of 15 candidates, totalling 45 fits\n",
      "[CV] max_features=auto, n_estimators=50 ..............................\n"
     ]
    },
    {
     "name": "stderr",
     "output_type": "stream",
     "text": [
      "C:\\Users\\j6921\\Anaconda3\\lib\\site-packages\\sklearn\\model_selection\\_split.py:2053: FutureWarning: You should specify a value for 'cv' instead of relying on the default value. The default value will change from 3 to 5 in version 0.22.\n",
      "  warnings.warn(CV_WARNING, FutureWarning)\n",
      "[Parallel(n_jobs=1)]: Using backend SequentialBackend with 1 concurrent workers.\n"
     ]
    },
    {
     "name": "stdout",
     "output_type": "stream",
     "text": [
      "[CV]  max_features=auto, n_estimators=50, score=0.8851931330472103, total=   0.3s\n",
      "[CV] max_features=auto, n_estimators=50 ..............................\n"
     ]
    },
    {
     "name": "stderr",
     "output_type": "stream",
     "text": [
      "[Parallel(n_jobs=1)]: Done   1 out of   1 | elapsed:    0.3s remaining:    0.0s\n"
     ]
    },
    {
     "name": "stdout",
     "output_type": "stream",
     "text": [
      "[CV]  max_features=auto, n_estimators=50, score=0.8835836909871244, total=   0.2s\n",
      "[CV] max_features=auto, n_estimators=50 ..............................\n"
     ]
    },
    {
     "name": "stderr",
     "output_type": "stream",
     "text": [
      "[Parallel(n_jobs=1)]: Done   2 out of   2 | elapsed:    0.7s remaining:    0.0s\n"
     ]
    },
    {
     "name": "stdout",
     "output_type": "stream",
     "text": [
      "[CV]  max_features=auto, n_estimators=50, score=0.8728540772532188, total=   0.3s\n",
      "[CV] max_features=auto, n_estimators=100 .............................\n",
      "[CV]  max_features=auto, n_estimators=100, score=0.89431330472103, total=   0.6s\n",
      "[CV] max_features=auto, n_estimators=100 .............................\n",
      "[CV]  max_features=auto, n_estimators=100, score=0.8830472103004292, total=   0.7s\n",
      "[CV] max_features=auto, n_estimators=100 .............................\n",
      "[CV]  max_features=auto, n_estimators=100, score=0.8728540772532188, total=   0.7s\n",
      "[CV] max_features=auto, n_estimators=200 .............................\n",
      "[CV]  max_features=auto, n_estimators=200, score=0.89431330472103, total=   1.7s\n",
      "[CV] max_features=auto, n_estimators=200 .............................\n",
      "[CV]  max_features=auto, n_estimators=200, score=0.8830472103004292, total=   1.5s\n",
      "[CV] max_features=auto, n_estimators=200 .............................\n",
      "[CV]  max_features=auto, n_estimators=200, score=0.8707081545064378, total=   1.5s\n",
      "[CV] max_features=auto, n_estimators=400 .............................\n",
      "[CV]  max_features=auto, n_estimators=400, score=0.8959227467811158, total=   3.2s\n",
      "[CV] max_features=auto, n_estimators=400 .............................\n",
      "[CV]  max_features=auto, n_estimators=400, score=0.8792918454935622, total=   2.8s\n",
      "[CV] max_features=auto, n_estimators=400 .............................\n",
      "[CV] . max_features=auto, n_estimators=400, score=0.875, total=   2.8s\n",
      "[CV] max_features=auto, n_estimators=600 .............................\n",
      "[CV]  max_features=auto, n_estimators=600, score=0.898068669527897, total=   4.5s\n",
      "[CV] max_features=auto, n_estimators=600 .............................\n",
      "[CV]  max_features=auto, n_estimators=600, score=0.8830472103004292, total=   4.4s\n",
      "[CV] max_features=auto, n_estimators=600 .............................\n",
      "[CV]  max_features=auto, n_estimators=600, score=0.8744635193133047, total=   4.4s\n",
      "[CV] max_features=sqrt, n_estimators=50 ..............................\n",
      "[CV]  max_features=sqrt, n_estimators=50, score=0.8969957081545065, total=   0.3s\n",
      "[CV] max_features=sqrt, n_estimators=50 ..............................\n",
      "[CV]  max_features=sqrt, n_estimators=50, score=0.8792918454935622, total=   0.3s\n",
      "[CV] max_features=sqrt, n_estimators=50 ..............................\n",
      "[CV]  max_features=sqrt, n_estimators=50, score=0.871244635193133, total=   0.3s\n",
      "[CV] max_features=sqrt, n_estimators=100 .............................\n",
      "[CV]  max_features=sqrt, n_estimators=100, score=0.8975321888412017, total=   0.6s\n",
      "[CV] max_features=sqrt, n_estimators=100 .............................\n",
      "[CV]  max_features=sqrt, n_estimators=100, score=0.8825107296137339, total=   0.6s\n",
      "[CV] max_features=sqrt, n_estimators=100 .............................\n",
      "[CV]  max_features=sqrt, n_estimators=100, score=0.8733905579399142, total=   0.6s\n",
      "[CV] max_features=sqrt, n_estimators=200 .............................\n",
      "[CV]  max_features=sqrt, n_estimators=200, score=0.8975321888412017, total=   1.3s\n",
      "[CV] max_features=sqrt, n_estimators=200 .............................\n",
      "[CV]  max_features=sqrt, n_estimators=200, score=0.8841201716738197, total=   1.4s\n",
      "[CV] max_features=sqrt, n_estimators=200 .............................\n",
      "[CV]  max_features=sqrt, n_estimators=200, score=0.8717811158798283, total=   1.3s\n",
      "[CV] max_features=sqrt, n_estimators=400 .............................\n",
      "[CV]  max_features=sqrt, n_estimators=400, score=0.8991416309012875, total=   2.9s\n",
      "[CV] max_features=sqrt, n_estimators=400 .............................\n",
      "[CV]  max_features=sqrt, n_estimators=400, score=0.8825107296137339, total=   2.8s\n",
      "[CV] max_features=sqrt, n_estimators=400 .............................\n",
      "[CV]  max_features=sqrt, n_estimators=400, score=0.8728540772532188, total=   2.8s\n",
      "[CV] max_features=sqrt, n_estimators=600 .............................\n",
      "[CV]  max_features=sqrt, n_estimators=600, score=0.8964592274678111, total=   4.3s\n",
      "[CV] max_features=sqrt, n_estimators=600 .............................\n",
      "[CV]  max_features=sqrt, n_estimators=600, score=0.8798283261802575, total=   4.4s\n",
      "[CV] max_features=sqrt, n_estimators=600 .............................\n",
      "[CV]  max_features=sqrt, n_estimators=600, score=0.8717811158798283, total=   4.3s\n",
      "[CV] max_features=log2, n_estimators=50 ..............................\n",
      "[CV]  max_features=log2, n_estimators=50, score=0.8975321888412017, total=   0.3s\n",
      "[CV] max_features=log2, n_estimators=50 ..............................\n",
      "[CV]  max_features=log2, n_estimators=50, score=0.8766094420600858, total=   0.3s\n",
      "[CV] max_features=log2, n_estimators=50 ..............................\n",
      "[CV]  max_features=log2, n_estimators=50, score=0.8701716738197425, total=   0.3s\n",
      "[CV] max_features=log2, n_estimators=100 .............................\n",
      "[CV]  max_features=log2, n_estimators=100, score=0.8964592274678111, total=   0.6s\n",
      "[CV] max_features=log2, n_estimators=100 .............................\n",
      "[CV]  max_features=log2, n_estimators=100, score=0.8760729613733905, total=   0.6s\n",
      "[CV] max_features=log2, n_estimators=100 .............................\n",
      "[CV]  max_features=log2, n_estimators=100, score=0.8755364806866953, total=   0.6s\n",
      "[CV] max_features=log2, n_estimators=200 .............................\n",
      "[CV]  max_features=log2, n_estimators=200, score=0.9007510729613734, total=   1.3s\n",
      "[CV] max_features=log2, n_estimators=200 .............................\n",
      "[CV]  max_features=log2, n_estimators=200, score=0.8841201716738197, total=   1.4s\n",
      "[CV] max_features=log2, n_estimators=200 .............................\n",
      "[CV]  max_features=log2, n_estimators=200, score=0.8733905579399142, total=   1.4s\n",
      "[CV] max_features=log2, n_estimators=400 .............................\n",
      "[CV]  max_features=log2, n_estimators=400, score=0.8927038626609443, total=   2.9s\n",
      "[CV] max_features=log2, n_estimators=400 .............................\n",
      "[CV]  max_features=log2, n_estimators=400, score=0.8825107296137339, total=   2.8s\n",
      "[CV] max_features=log2, n_estimators=400 .............................\n",
      "[CV]  max_features=log2, n_estimators=400, score=0.8739270386266095, total=   2.8s\n",
      "[CV] max_features=log2, n_estimators=600 .............................\n",
      "[CV]  max_features=log2, n_estimators=600, score=0.8948497854077253, total=   4.3s\n",
      "[CV] max_features=log2, n_estimators=600 .............................\n",
      "[CV]  max_features=log2, n_estimators=600, score=0.880901287553648, total=   4.4s\n",
      "[CV] max_features=log2, n_estimators=600 .............................\n",
      "[CV]  max_features=log2, n_estimators=600, score=0.8771459227467812, total=   4.3s\n"
     ]
    },
    {
     "name": "stderr",
     "output_type": "stream",
     "text": [
      "[Parallel(n_jobs=1)]: Done  45 out of  45 | elapsed:  1.7min finished\n"
     ]
    },
    {
     "data": {
      "text/plain": [
       "GridSearchCV(cv='warn', error_score='raise-deprecating',\n",
       "       estimator=RandomForestClassifier(bootstrap=True, class_weight=None, criterion='gini',\n",
       "            max_depth=None, max_features='auto', max_leaf_nodes=None,\n",
       "            min_impurity_decrease=0.0, min_impurity_split=None,\n",
       "            min_samples_leaf=1, min_samples_split=2,\n",
       "            min_weight_fraction_leaf=0.0, n_estimators=200, n_jobs=None,\n",
       "            oob_score=False, random_state=None, verbose=0,\n",
       "            warm_start=False),\n",
       "       fit_params=None, iid='warn', n_jobs=None,\n",
       "       param_grid={'n_estimators': [50, 100, 200, 400, 600], 'max_features': ['auto', 'sqrt', 'log2']},\n",
       "       pre_dispatch='2*n_jobs', refit=True, return_train_score='warn',\n",
       "       scoring=None, verbose=3)"
      ]
     },
     "execution_count": 18,
     "metadata": {},
     "output_type": "execute_result"
    }
   ],
   "source": [
    "# Train the model with GridSearch\n",
    "grid.fit(X_train, y_train)"
   ]
  },
  {
   "cell_type": "code",
   "execution_count": 19,
   "metadata": {},
   "outputs": [
    {
     "name": "stdout",
     "output_type": "stream",
     "text": [
      "{'max_features': 'log2', 'n_estimators': 200}\n",
      "0.8860872675250357\n"
     ]
    }
   ],
   "source": [
    "print(grid.best_params_)\n",
    "print(grid.best_score_)"
   ]
  },
  {
   "cell_type": "code",
   "execution_count": 20,
   "metadata": {},
   "outputs": [
    {
     "name": "stdout",
     "output_type": "stream",
     "text": [
      "1.0, 0.8949249463902788\n"
     ]
    }
   ],
   "source": [
    "rf_tuned = RandomForestClassifier(n_estimators=400, max_features='auto')\n",
    "rf_tuned = rf_tuned.fit(X_train_scaled, y_train)\n",
    "#print(f\"Training Data Score: {model2.score(X_train_scaled, y_train)}\")\n",
    "#print(f\"Testing Data Score: {model2.score(X_test_scaled, y_test)}\")\n",
    "a_tuned = rf_tuned.score(X_train_scaled, y_train)\n",
    "b_tuned = rf_tuned.score(X_test_scaled, y_test)\n",
    "print(f\"{a_tuned}, {b_tuned}\")"
   ]
  },
  {
   "cell_type": "markdown",
   "metadata": {},
   "source": [
    "# Save the Model"
   ]
  },
  {
   "cell_type": "code",
   "execution_count": 21,
   "metadata": {},
   "outputs": [
    {
     "ename": "NameError",
     "evalue": "name 'your_model' is not defined",
     "output_type": "error",
     "traceback": [
      "\u001b[1;31m---------------------------------------------------------------------------\u001b[0m",
      "\u001b[1;31mNameError\u001b[0m                                 Traceback (most recent call last)",
      "\u001b[1;32m<ipython-input-21-7ffc35e2dc82>\u001b[0m in \u001b[0;36m<module>\u001b[1;34m\u001b[0m\n\u001b[0;32m      5\u001b[0m \u001b[1;32mimport\u001b[0m \u001b[0mjoblib\u001b[0m\u001b[1;33m\u001b[0m\u001b[1;33m\u001b[0m\u001b[0m\n\u001b[0;32m      6\u001b[0m \u001b[0mfilename\u001b[0m \u001b[1;33m=\u001b[0m \u001b[1;34m'your_name.sav'\u001b[0m\u001b[1;33m\u001b[0m\u001b[1;33m\u001b[0m\u001b[0m\n\u001b[1;32m----> 7\u001b[1;33m \u001b[0mjoblib\u001b[0m\u001b[1;33m.\u001b[0m\u001b[0mdump\u001b[0m\u001b[1;33m(\u001b[0m\u001b[0myour_model\u001b[0m\u001b[1;33m,\u001b[0m \u001b[0mfilename\u001b[0m\u001b[1;33m)\u001b[0m\u001b[1;33m\u001b[0m\u001b[1;33m\u001b[0m\u001b[0m\n\u001b[0m",
      "\u001b[1;31mNameError\u001b[0m: name 'your_model' is not defined"
     ]
    }
   ],
   "source": [
    "# save your model by updating \"your_name\" with your name\n",
    "# and \"your_model\" with your model variable\n",
    "# be sure to turn this in to BCS\n",
    "# if joblib fails to import, try running the command to install in terminal/git-bash\n",
    "import joblib\n",
    "filename = 'your_name.sav'\n",
    "joblib.dump(your_model, filename)"
   ]
  }
 ],
 "metadata": {
  "kernel_info": {
   "name": "dev"
  },
  "kernelspec": {
   "display_name": "Python 3",
   "language": "python",
   "name": "python3"
  },
  "language_info": {
   "codemirror_mode": {
    "name": "ipython",
    "version": 3
   },
   "file_extension": ".py",
   "mimetype": "text/x-python",
   "name": "python",
   "nbconvert_exporter": "python",
   "pygments_lexer": "ipython3",
   "version": "3.7.3"
  },
  "nteract": {
   "version": "0.12.3"
  }
 },
 "nbformat": 4,
 "nbformat_minor": 2
}
